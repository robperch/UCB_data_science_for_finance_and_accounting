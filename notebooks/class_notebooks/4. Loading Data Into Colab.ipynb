{
 "cells": [
  {
   "cell_type": "markdown",
   "metadata": {
    "id": "rc0A4wpndJc1"
   },
   "source": [
    "# Loading Data into Colab\n",
    "\n",
    "In this final notebook, we'll go over a number of ways to load CSV data into Colab. This is the one area where Colab is unfortunately more difficult than to use compared with running Python on your own computer.\n",
    "\n",
    "This difficulty stems from the fact that we need to make the data we are loading available to our Colab Runtime (the virtual machine that is running our Python code). Because the Colab Runtime is an anonymous virtual machine in the cloud, it has the same permissions to access your files as does any anonymous random person on the internet (hopefully none!). We will need to jump through some hoops to either directly provide the data to the Colab Runtime or to make our data accessible to it.\n",
    "\n",
    "I've listed several ways to load data into Colab below. For any assignments, I will ask that you use Method 1 because that makes it easy for me to run your code myself."
   ]
  },
  {
   "cell_type": "markdown",
   "metadata": {
    "id": "oOPXgvzbzCaU"
   },
   "source": [
    "# Method 1: Loading from Google Drive by Link Sharing\n",
    "\n",
    "The easiest method for loading data into a Colab notebook is to upload it to Google drive, make it share-able with anyone who has a link, and then use a version of that link in Colab.\n",
    "\n",
    "The down-side of this method is that anyone on the internet who has that link can now access that data.\n",
    "\n",
    "## Steps\n",
    "\n",
    "* Upload your data file to Google Drive.\n",
    "* Enable link access to everyone in the world(!).\n",
    "  * Select the file that you uploaded and click \"Get Sharable Link\".\n",
    "  * Change the access mode from \"Restricted\" to \"Anyone with the link\".\n",
    "* Copy the link.\n",
    "  * This is link to open the file in Google Drive.\n",
    "  * We will want to create a link to download the file directly.\n",
    "* Extract the file ID.\n",
    "  * The copied link will be something of the form ``https://drive.google.com/file/d/XXX/view?usp=sharing``\n",
    "  * The ``XXX`` part is the Google Drive File ID.\n",
    "* Create a download link.\n",
    "  * Replace the ``XXX`` in ``https://drive.google.com/uc?export=download&id=XXX`` with the file ID.\n",
    "  * This is your download link.\n",
    "\n",
    "## Example\n",
    "\n",
    "As a concrete example, the following is a link to open a test CSV file in Google Drive (the link that you get from clicking \"Copy link\").\n",
    "```\n",
    "    https://drive.google.com/file/d/1GpMDgogFAnCDpw0iRMTbUUfbWZTu6kzB/view?usp=sharing\n",
    "```\n",
    "The file ID for this file is\n",
    "```\n",
    "    1GpMDgogFAnCDpw0iRMTbUUfbWZTu6kzB\n",
    "```\n",
    "The direct download link is therefore \n",
    "```\n",
    "    https://drive.google.com/uc?export=download&id=1GpMDgogFAnCDpw0iRMTbUUfbWZTu6kzB\n",
    "```\n",
    "\n",
    "Now, we can directly load this file into ``pandas`` using ``read_csv``."
   ]
  },
  {
   "cell_type": "code",
   "execution_count": 1,
   "metadata": {
    "colab": {
     "base_uri": "https://localhost:8080/",
     "height": 457
    },
    "execution": {
     "iopub.execute_input": "2023-02-18T05:34:00.418699Z",
     "iopub.status.busy": "2023-02-18T05:34:00.415187Z",
     "iopub.status.idle": "2023-02-18T05:34:01.767528Z",
     "shell.execute_reply": "2023-02-18T05:34:01.766632Z",
     "shell.execute_reply.started": "2023-02-18T05:34:00.418145Z"
    },
    "executionInfo": {
     "elapsed": 994,
     "status": "ok",
     "timestamp": 1673471486946,
     "user": {
      "displayName": "Christopher Cameron",
      "userId": "14675327528223292891"
     },
     "user_tz": -60
    },
    "id": "Y4XIoNcr36Ms",
    "outputId": "be343c06-8342-4c8e-aabb-95025cf8d23c",
    "tags": []
   },
   "outputs": [
    {
     "data": {
      "text/html": [
       "<div>\n",
       "<style scoped>\n",
       "    .dataframe tbody tr th:only-of-type {\n",
       "        vertical-align: middle;\n",
       "    }\n",
       "\n",
       "    .dataframe tbody tr th {\n",
       "        vertical-align: top;\n",
       "    }\n",
       "\n",
       "    .dataframe thead th {\n",
       "        text-align: right;\n",
       "    }\n",
       "</style>\n",
       "<table border=\"1\" class=\"dataframe\">\n",
       "  <thead>\n",
       "    <tr style=\"text-align: right;\">\n",
       "      <th></th>\n",
       "      <th>BLUE</th>\n",
       "      <th>ORANGE</th>\n",
       "    </tr>\n",
       "  </thead>\n",
       "  <tbody>\n",
       "    <tr>\n",
       "      <th>0</th>\n",
       "      <td>8.7000</td>\n",
       "      <td>10.6600</td>\n",
       "    </tr>\n",
       "    <tr>\n",
       "      <th>1</th>\n",
       "      <td>8.9055</td>\n",
       "      <td>11.0828</td>\n",
       "    </tr>\n",
       "    <tr>\n",
       "      <th>2</th>\n",
       "      <td>8.7113</td>\n",
       "      <td>10.7100</td>\n",
       "    </tr>\n",
       "    <tr>\n",
       "      <th>3</th>\n",
       "      <td>8.4346</td>\n",
       "      <td>11.5907</td>\n",
       "    </tr>\n",
       "    <tr>\n",
       "      <th>4</th>\n",
       "      <td>8.7254</td>\n",
       "      <td>12.1070</td>\n",
       "    </tr>\n",
       "    <tr>\n",
       "      <th>5</th>\n",
       "      <td>9.0551</td>\n",
       "      <td>11.7876</td>\n",
       "    </tr>\n",
       "    <tr>\n",
       "      <th>6</th>\n",
       "      <td>8.9514</td>\n",
       "      <td>11.2078</td>\n",
       "    </tr>\n",
       "    <tr>\n",
       "      <th>7</th>\n",
       "      <td>9.2439</td>\n",
       "      <td>12.5192</td>\n",
       "    </tr>\n",
       "    <tr>\n",
       "      <th>8</th>\n",
       "      <td>9.1276</td>\n",
       "      <td>13.3624</td>\n",
       "    </tr>\n",
       "    <tr>\n",
       "      <th>9</th>\n",
       "      <td>9.3976</td>\n",
       "      <td>14.4080</td>\n",
       "    </tr>\n",
       "    <tr>\n",
       "      <th>10</th>\n",
       "      <td>9.4554</td>\n",
       "      <td>11.9837</td>\n",
       "    </tr>\n",
       "    <tr>\n",
       "      <th>11</th>\n",
       "      <td>9.5704</td>\n",
       "      <td>12.2718</td>\n",
       "    </tr>\n",
       "    <tr>\n",
       "      <th>12</th>\n",
       "      <td>9.7728</td>\n",
       "      <td>11.5892</td>\n",
       "    </tr>\n",
       "  </tbody>\n",
       "</table>\n",
       "</div>"
      ],
      "text/plain": [
       "      BLUE   ORANGE\n",
       "0   8.7000  10.6600\n",
       "1   8.9055  11.0828\n",
       "2   8.7113  10.7100\n",
       "3   8.4346  11.5907\n",
       "4   8.7254  12.1070\n",
       "5   9.0551  11.7876\n",
       "6   8.9514  11.2078\n",
       "7   9.2439  12.5192\n",
       "8   9.1276  13.3624\n",
       "9   9.3976  14.4080\n",
       "10  9.4554  11.9837\n",
       "11  9.5704  12.2718\n",
       "12  9.7728  11.5892"
      ]
     },
     "execution_count": 1,
     "metadata": {},
     "output_type": "execute_result"
    }
   ],
   "source": [
    "import pandas as pd\n",
    "df = pd.read_csv('https://drive.google.com/uc?export=download&id=1GpMDgogFAnCDpw0iRMTbUUfbWZTu6kzB')\n",
    "df"
   ]
  },
  {
   "cell_type": "markdown",
   "metadata": {
    "id": "XqIWFnx_5hPw"
   },
   "source": [
    "# Method 2: Uploading to the Colab Runtime's filesystem\n",
    "\n",
    "Remember that the Colab Runtime is a virtual machine in the cloud. You can store files on it just like any other computer.\n",
    "\n",
    "This is the most secure way to share files with Colab (you're only sharing the files directly with your runtime). It can also be annoying because you will have to re-upload your files every time your runtime restarts.\n",
    "\n",
    "To upload a file:\n",
    "* Click the folder icon on the left panel in Colab\n",
    "* Click the upload icon, and select a file\n",
    "* Click the folder-refresh icon next to the upload icon, and the file you uploaded should be visible.\n",
    "* Hover over the file, click the 3-dot menu, and select \"Copy path\".\n",
    "\n",
    "Now you can load the file by pasting its path as a string into ``read_csv`` as below."
   ]
  },
  {
   "cell_type": "code",
   "execution_count": 3,
   "metadata": {
    "colab": {
     "base_uri": "https://localhost:8080/",
     "height": 329
    },
    "execution": {
     "iopub.execute_input": "2023-02-18T05:35:19.390634Z",
     "iopub.status.busy": "2023-02-18T05:35:19.390403Z",
     "iopub.status.idle": "2023-02-18T05:35:19.406996Z",
     "shell.execute_reply": "2023-02-18T05:35:19.406036Z",
     "shell.execute_reply.started": "2023-02-18T05:35:19.390612Z"
    },
    "executionInfo": {
     "elapsed": 438,
     "status": "error",
     "timestamp": 1673471510009,
     "user": {
      "displayName": "Christopher Cameron",
      "userId": "14675327528223292891"
     },
     "user_tz": -60
    },
    "id": "Qx9or0fj6O2a",
    "outputId": "f635e66e-9530-4b54-cda4-ce0d42c00155",
    "tags": []
   },
   "outputs": [
    {
     "data": {
      "text/html": [
       "<div>\n",
       "<style scoped>\n",
       "    .dataframe tbody tr th:only-of-type {\n",
       "        vertical-align: middle;\n",
       "    }\n",
       "\n",
       "    .dataframe tbody tr th {\n",
       "        vertical-align: top;\n",
       "    }\n",
       "\n",
       "    .dataframe thead th {\n",
       "        text-align: right;\n",
       "    }\n",
       "</style>\n",
       "<table border=\"1\" class=\"dataframe\">\n",
       "  <thead>\n",
       "    <tr style=\"text-align: right;\">\n",
       "      <th></th>\n",
       "      <th>BLUE</th>\n",
       "      <th>ORANGE</th>\n",
       "    </tr>\n",
       "  </thead>\n",
       "  <tbody>\n",
       "    <tr>\n",
       "      <th>0</th>\n",
       "      <td>8.7000</td>\n",
       "      <td>10.6600</td>\n",
       "    </tr>\n",
       "    <tr>\n",
       "      <th>1</th>\n",
       "      <td>8.9055</td>\n",
       "      <td>11.0828</td>\n",
       "    </tr>\n",
       "    <tr>\n",
       "      <th>2</th>\n",
       "      <td>8.7113</td>\n",
       "      <td>10.7100</td>\n",
       "    </tr>\n",
       "    <tr>\n",
       "      <th>3</th>\n",
       "      <td>8.4346</td>\n",
       "      <td>11.5907</td>\n",
       "    </tr>\n",
       "    <tr>\n",
       "      <th>4</th>\n",
       "      <td>8.7254</td>\n",
       "      <td>12.1070</td>\n",
       "    </tr>\n",
       "    <tr>\n",
       "      <th>5</th>\n",
       "      <td>9.0551</td>\n",
       "      <td>11.7876</td>\n",
       "    </tr>\n",
       "    <tr>\n",
       "      <th>6</th>\n",
       "      <td>8.9514</td>\n",
       "      <td>11.2078</td>\n",
       "    </tr>\n",
       "    <tr>\n",
       "      <th>7</th>\n",
       "      <td>9.2439</td>\n",
       "      <td>12.5192</td>\n",
       "    </tr>\n",
       "    <tr>\n",
       "      <th>8</th>\n",
       "      <td>9.1276</td>\n",
       "      <td>13.3624</td>\n",
       "    </tr>\n",
       "    <tr>\n",
       "      <th>9</th>\n",
       "      <td>9.3976</td>\n",
       "      <td>14.4080</td>\n",
       "    </tr>\n",
       "    <tr>\n",
       "      <th>10</th>\n",
       "      <td>9.4554</td>\n",
       "      <td>11.9837</td>\n",
       "    </tr>\n",
       "    <tr>\n",
       "      <th>11</th>\n",
       "      <td>9.5704</td>\n",
       "      <td>12.2718</td>\n",
       "    </tr>\n",
       "    <tr>\n",
       "      <th>12</th>\n",
       "      <td>9.7728</td>\n",
       "      <td>11.5892</td>\n",
       "    </tr>\n",
       "  </tbody>\n",
       "</table>\n",
       "</div>"
      ],
      "text/plain": [
       "      BLUE   ORANGE\n",
       "0   8.7000  10.6600\n",
       "1   8.9055  11.0828\n",
       "2   8.7113  10.7100\n",
       "3   8.4346  11.5907\n",
       "4   8.7254  12.1070\n",
       "5   9.0551  11.7876\n",
       "6   8.9514  11.2078\n",
       "7   9.2439  12.5192\n",
       "8   9.1276  13.3624\n",
       "9   9.3976  14.4080\n",
       "10  9.4554  11.9837\n",
       "11  9.5704  12.2718\n",
       "12  9.7728  11.5892"
      ]
     },
     "execution_count": 3,
     "metadata": {},
     "output_type": "execute_result"
    }
   ],
   "source": [
    "df = pd.read_csv('sample_prices.csv')\n",
    "df"
   ]
  },
  {
   "cell_type": "markdown",
   "metadata": {
    "id": "z70y2dC5GM9g"
   },
   "source": [
    "# Method 3: Mounting your Google Drive\n",
    "\n",
    "With this method, you are giving the Colab Runtime (that machine in the cloud) permission to add, edit, or delete files in your entire Google Drive. Your Google Drive files will appear as part of the Colab Runtime's filesystem (like the things you uploaded).\n",
    "\n",
    "This will only give access to your personal drive -- it will not give access to any files that have been shared with you.\n",
    "\n",
    "**Security Warning:** This is also something you only want to do when you know and trust all of the code in the Colab Notebook that you are running. For example, a malicious person could write a Colab Notebook that asks for permission to access your Google Drive, and then has code in it that deletes all of the files from your Google Drive (or searches through them for passwords, credit card numbers, etc).\n",
    "\n",
    "With that warning out of the way, this can be very convient to use if you are writing your own code. The instructions for doing this are to:\n",
    "\n",
    "* Click the folder icon on the left side of your Colab window\n",
    "* Click the Google Drive icon\n",
    "* Select \"Connect to Google Drive\" at the permission requests that prompts you (if asked)\n",
    "* Press the folder-refresh icon.\n",
    "* You will now see a new directory, drive. You can copy the path of files as you did in the last example.\n",
    "\n",
    "If you're wondering where the terminology comes from, you're not the only one! I [looked it up](https://english.stackexchange.com/questions/335105/etymology-of-the-use-of-drive-to-refer-to-a-digital-storage-medium). Drive refers to spools that would spin magnetic tapes that were used for storage (similar to drivetrain in a car). Mounting something referred to mounting a given tape reel on to the drive (like mounting a frame on the wall).\n"
   ]
  },
  {
   "cell_type": "markdown",
   "metadata": {
    "id": "1FFpmrRNKXy1"
   },
   "source": [
    "# Method 4: Accessing Google Sheets directly using gspread\n",
    "\n",
    "---\n",
    "\n",
    "\n",
    "\n",
    "One thing that you may want to try is to open a Google Sheets spreadsheet directly. If you try this using the above methods (using the Google Drive File ID, or a mounted Google Drive), you will quickly find that they don't work!\n",
    "\n",
    "Google provides [this example code](https://colab.research.google.com/notebooks/snippets/sheets.ipynb#scrollTo=k9q0pp33dckN) to load a Google Sheets spreadsheet into Colab. The mechanism is clunky, and is probably not better than just exporting the Google Sheet as a CSV and then uploading that to either Drive or Colab."
   ]
  }
 ],
 "metadata": {
  "colab": {
   "provenance": []
  },
  "kernelspec": {
   "display_name": "Python 3 (ipykernel)",
   "language": "python",
   "name": "python3"
  },
  "language_info": {
   "codemirror_mode": {
    "name": "ipython",
    "version": 3
   },
   "file_extension": ".py",
   "mimetype": "text/x-python",
   "name": "python",
   "nbconvert_exporter": "python",
   "pygments_lexer": "ipython3",
   "version": "3.9.1"
  }
 },
 "nbformat": 4,
 "nbformat_minor": 4
}
