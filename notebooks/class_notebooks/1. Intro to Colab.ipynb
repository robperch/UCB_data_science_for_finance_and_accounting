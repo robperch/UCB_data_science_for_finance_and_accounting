{
 "cells": [
  {
   "cell_type": "markdown",
   "metadata": {
    "id": "Ql1MglCBbSgB"
   },
   "source": [
    "# Using Google Colab\n",
    "\n",
    "In this course we will be using [Google Colab](https://colab.sandbox.google.com/notebooks/welcome.ipynb) to write simple Python 3 programs. Google Colab is an environment in which you can write [Jupyter Notebooks](https://ipython.org/notebook.html) without needing to install Python on your computer, tablet, or phone.\n",
    "\n",
    "Please watch this 3-minute [propaganda video introduction to Colab](https://youtu.be/inN8seMm7UI). The remaining videos in that series are mostly about using [TensorFlow](https://www.tensorflow.org/), a library for deep neural networks, which we won't be using in this course.\n",
    "\n",
    "This notebook will give some examples of basic programming in Python. The next notebook in this series will introduce some concepts from the Python Data Analysis Library [pandas](https://pandas.pydata.org/) which we will use throughout the course.\n"
   ]
  },
  {
   "cell_type": "markdown",
   "metadata": {
    "id": "WridGs64hSnx"
   },
   "source": [
    "## Editing this notebook\n",
    "\n",
    "The notebook link that has been shared with you is read-only. You will be able to edit and run code, but you won't be able to save changes.\n",
    "\n",
    "To save changes, you'll need to click the \"Copy to Drive\" link at the top. By default saved notebooks will located in the \"Colab Notebooks\" folder in your Google Drive. If you don't visualize the \"Copy to Drive\", in the File menu, select \"Save a copy to Drive\". \n",
    "\n",
    "<img src=\"https://drive.google.com/uc?export=download&id=1P0fzEtFL_K3tw5-bj1KZ5aKfuCuPZoeR\" width=\"75%\">\n",
    "\n",
    "Also note that the table of contents on the left hand side may or may not be helpful at all times, and can be opened or closed."
   ]
  },
  {
   "cell_type": "markdown",
   "metadata": {
    "id": "8DbGh9HzhayX"
   },
   "source": [
    "## Running our first code\n",
    "\n",
    "Now, continue to the code cell below (the concept of \"cells\" was introduced in the propaganda video).\n",
    "\n",
    "When you move your mouse over the ``[ ]`` on the left of the cell, it should become a play button, as in the image below. Click the play button to run the code.\n",
    "\n",
    "Colab may give you a warning that this notebook was not authored by Google and that it was authored by me. Press \"Run Anyway\".\n",
    "\n",
    "<img src=\"https://drive.google.com/uc?export=download&id=1vo9oAmPVHGCzpFY6wSZQ4RvS3txDcxli\" width=\"75%\">"
   ]
  },
  {
   "cell_type": "code",
   "execution_count": 1,
   "metadata": {
    "colab": {
     "base_uri": "https://localhost:8080/"
    },
    "execution": {
     "iopub.execute_input": "2023-02-18T05:24:37.337845Z",
     "iopub.status.busy": "2023-02-18T05:24:37.337373Z",
     "iopub.status.idle": "2023-02-18T05:24:37.350421Z",
     "shell.execute_reply": "2023-02-18T05:24:37.349630Z",
     "shell.execute_reply.started": "2023-02-18T05:24:37.337718Z"
    },
    "executionInfo": {
     "elapsed": 207,
     "status": "ok",
     "timestamp": 1673518056884,
     "user": {
      "displayName": "Donatella Taurasi",
      "userId": "00673418551725000492"
     },
     "user_tz": -60
    },
    "id": "xZpddoSxPQKQ",
    "outputId": "637b3bfe-85c1-492b-9b90-e395e4b83820"
   },
   "outputs": [
    {
     "name": "stdout",
     "output_type": "stream",
     "text": [
      "Hello, world!\n"
     ]
    }
   ],
   "source": [
    "print(\"Hello, world!\");"
   ]
  },
  {
   "cell_type": "markdown",
   "metadata": {
    "id": "1WgyBIK7PYF7"
   },
   "source": [
    "When you un-select the cell (by selecting the next cell, e.g, with the arrow keys or the mouse), then you will see the play button has been replaced with a ``[1]`` as on the right. That ``1`` means that this was the 1st piece of code run in this notebook.\n",
    "\n",
    "You can press \"play\" over and over on the same cell, or on any cells in any order, and that number will increase. Try pressing the \"play\" button for that first cell again."
   ]
  },
  {
   "cell_type": "markdown",
   "metadata": {
    "id": "ODspv8qAhmqe"
   },
   "source": [
    "## Errors\n",
    "\n",
    "What would happen if things didn't work correctly? Let's try the following cell that has print spelled wrong. Run the cell and see what happens."
   ]
  },
  {
   "cell_type": "code",
   "execution_count": 2,
   "metadata": {
    "colab": {
     "base_uri": "https://localhost:8080/"
    },
    "execution": {
     "iopub.execute_input": "2023-02-18T05:24:38.508244Z",
     "iopub.status.busy": "2023-02-18T05:24:38.507968Z",
     "iopub.status.idle": "2023-02-18T05:24:38.594980Z",
     "shell.execute_reply": "2023-02-18T05:24:38.593930Z",
     "shell.execute_reply.started": "2023-02-18T05:24:38.508217Z"
    },
    "executionInfo": {
     "elapsed": 2,
     "status": "ok",
     "timestamp": 1673518057129,
     "user": {
      "displayName": "Donatella Taurasi",
      "userId": "00673418551725000492"
     },
     "user_tz": -60
    },
    "id": "-EOiUnLiT7Nn",
    "outputId": "dfd9ba96-0533-447e-c23d-8bb5ebabdaf4"
   },
   "outputs": [
    {
     "ename": "NameError",
     "evalue": "name 'pritn' is not defined",
     "output_type": "error",
     "traceback": [
      "\u001b[0;31m---------------------------------------------------------------------------\u001b[0m",
      "\u001b[0;31mNameError\u001b[0m                                 Traceback (most recent call last)",
      "\u001b[0;32m/var/folders/0q/3y5dk4390kqc86qh28v817lw0000gn/T/ipykernel_19982/3906565694.py\u001b[0m in \u001b[0;36m<module>\u001b[0;34m\u001b[0m\n\u001b[0;32m----> 1\u001b[0;31m \u001b[0mpritn\u001b[0m\u001b[0;34m(\u001b[0m\u001b[0;34m\"Hello, world!\"\u001b[0m\u001b[0;34m)\u001b[0m\u001b[0;34m;\u001b[0m\u001b[0;34m\u001b[0m\u001b[0;34m\u001b[0m\u001b[0m\n\u001b[0m",
      "\u001b[0;31mNameError\u001b[0m: name 'pritn' is not defined"
     ]
    }
   ],
   "source": [
    "pritn(\"Hello, world!\");"
   ]
  },
  {
   "cell_type": "markdown",
   "metadata": {
    "id": "2dcJU_UfT7Wm"
   },
   "source": [
    "When reading the errors in Python, the most useful information comes at the *bottom* of the error message, not the top. The helpful part of the error is the \"``NameError: name 'pritn' is not defined``\" message."
   ]
  },
  {
   "cell_type": "markdown",
   "metadata": {
    "id": "SY-ZH5K3hlOj"
   },
   "source": [
    "# Colab Runtimes\n",
    "\n",
    "A runtime is a virtual computer in the cloud that Colab uses to run Python code.\n",
    "\n",
    "When you press the play button next to a code cell, Colab is effectively copy-pasting that code into the runtime's Python instance."
   ]
  },
  {
   "cell_type": "markdown",
   "metadata": {
    "id": "OowhLf4Vkj-F"
   },
   "source": [
    "## Files in the Runtime\n",
    "\n",
    "Like any computer, the Colab runtime has files. You can browse the runtime's files by clicking on the folder icon on the left. We will discuss this in much more detail later."
   ]
  },
  {
   "cell_type": "markdown",
   "metadata": {
    "id": "F4Dbpd5q-tMA"
   },
   "source": [
    "##  Getting a clean slate\n",
    "\n",
    "If you ever find yourself in a position where your runtime is messed up and you want to restart everything from a clean slate, then follow the following two steps:\n",
    "\n",
    "1.   In the menu bar, select Runtime > Factory reset runtime (some of you might see \"Disconnect and delete runtime\"), and then press Ok.\n",
    "2.   In the menu bar, select Edit > Clear all outputs\n",
    "\n",
    "If you want to run the notebook from start-to-finish (e.g, before sharing it, to make sure that everything is working), then, from the menu bar, select Runtime > Run all (that won't work on this notebook because of the intentional errors like the one above)."
   ]
  },
  {
   "cell_type": "markdown",
   "metadata": {
    "id": "2C0d0zLrkzFy"
   },
   "source": [
    "## Runtimes do go away\n",
    "\n",
    "Unless you pay Google money to keep your runtimes around forever, Google will recycle your runtime after it hasn't been used for a few minutes. When this happens, all state in that runtime (all Python variables, and all files) will go away."
   ]
  }
 ],
 "metadata": {
  "colab": {
   "provenance": [
    {
     "file_id": "1WNgdxN5DQuuqqc7luPpZpVQJ9dh3NH4P",
     "timestamp": 1598128680548
    },
    {
     "file_id": "1tCytTAbQ9B1DdDIybjK519UtUYvpRcxT",
     "timestamp": 1553628083705
    }
   ]
  },
  "kernelspec": {
   "display_name": "Python 3 (ipykernel)",
   "language": "python",
   "name": "python3"
  },
  "language_info": {
   "codemirror_mode": {
    "name": "ipython",
    "version": 3
   },
   "file_extension": ".py",
   "mimetype": "text/x-python",
   "name": "python",
   "nbconvert_exporter": "python",
   "pygments_lexer": "ipython3",
   "version": "3.9.1"
  }
 },
 "nbformat": 4,
 "nbformat_minor": 4
}
