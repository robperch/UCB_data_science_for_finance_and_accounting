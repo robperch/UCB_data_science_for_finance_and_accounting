{
 "cells": [
  {
   "cell_type": "markdown",
   "metadata": {
    "id": "v0hVGSvAnLva"
   },
   "source": [
    "# Overfitting, Test-Train Splitting, and Cross-Validation\n",
    "This notebook will discuss overfitting data and cross-validation using the [``numpy``](http://www.numpy.org/), [``matplotlib``](https://matplotlib.org/), and [``scikit-learn``](https://scikit-learn.org/stable/) libraries.\n",
    "\n",
    "``numpy`` is a scientific computing library for Python. It is \"lower level\" than other libraries that we'll be using later in this course (in this context \"lower level\" means \"has more nitty-gritty details\"). Most of the data science libraries for Python are built on top of ``numpy``.\n",
    "\n",
    "``matplotlib`` is a visualization library for Python. Its name comes from the fact that was originally based on the plotting functionality of Matlab. Most of the visualization libraries that one will come across in Python are built upon ``matplotlib``.\n",
    "\n",
    "``scikit-learn`` is a library that has many machine learning algorithms implemented. We will be using ``scikit-learn`` more in the next few examples, but for now we're just using it to split our data."
   ]
  },
  {
   "cell_type": "code",
   "execution_count": 167,
   "metadata": {
    "execution": {
     "iopub.execute_input": "2023-03-03T00:56:52.211969Z",
     "iopub.status.busy": "2023-03-03T00:56:52.211567Z",
     "iopub.status.idle": "2023-03-03T00:56:52.219590Z",
     "shell.execute_reply": "2023-03-03T00:56:52.218779Z",
     "shell.execute_reply.started": "2023-03-03T00:56:52.211940Z"
    },
    "executionInfo": {
     "elapsed": 983,
     "status": "ok",
     "timestamp": 1675261173013,
     "user": {
      "displayName": "Donatella Taurasi",
      "userId": "00673418551725000492"
     },
     "user_tz": -60
    },
    "id": "STuc-MA9oyMd",
    "tags": []
   },
   "outputs": [],
   "source": [
    "# Most Python code uses the abbreviation np for numpy\n",
    "import numpy as np\n",
    "import numpy.polynomial.polynomial as npp\n",
    "# Most python code uses the abbreviation plt for matplotlib's pyplot module\n",
    "import matplotlib.pyplot as plt\n",
    "# We'll be just using a couple of functions from sklearn's model_selection\n",
    "# module, so don't bother with an abbreviation.\n",
    "import sklearn.model_selection"
   ]
  },
  {
   "cell_type": "markdown",
   "metadata": {
    "id": "rXchp_YHghEf"
   },
   "source": [
    "# Our goal\n",
    "\n",
    "Our goal will be to find the best model to fit our data without over-fitting.\n",
    "\n",
    "The class of models that we'll be considering is all polynomials, so, a linear fit (1st degree polynomial), a quadratic fit (2nd degree polynomial), a cubic fit (3rd degree polynomial), etc.\n",
    "\n",
    "To rephrase the above, our goal is to find the number $P$ such that a $P$th degree polynomial is the best model for fitting our data (we have been referring to this number as $\\lambda$).\n",
    "\n",
    "The parameters for any given polynomial fit are the coefficients of that polynomial (so, for a line $y=\\beta x+\\alpha$, the parameters are $\\beta$ and $\\alpha$). Sometimes this parameter for the model $P$ is called a \"hyperparameter\", to distinguish it from the parameters of the model."
   ]
  },
  {
   "cell_type": "markdown",
   "metadata": {
    "id": "midIpoPOpPee"
   },
   "source": [
    "# Generating our Data\n",
    "In this example, we'll generate some random data that we'll be using to work on. First, let's create a variable ``n`` for the number of data points we'll have"
   ]
  },
  {
   "cell_type": "code",
   "execution_count": 2,
   "metadata": {
    "execution": {
     "iopub.execute_input": "2023-03-02T21:55:24.262824Z",
     "iopub.status.busy": "2023-03-02T21:55:24.262096Z",
     "iopub.status.idle": "2023-03-02T21:55:24.267752Z",
     "shell.execute_reply": "2023-03-02T21:55:24.266716Z",
     "shell.execute_reply.started": "2023-03-02T21:55:24.262792Z"
    },
    "executionInfo": {
     "elapsed": 374,
     "status": "ok",
     "timestamp": 1675261419454,
     "user": {
      "displayName": "Donatella Taurasi",
      "userId": "00673418551725000492"
     },
     "user_tz": -60
    },
    "id": "gfl3dp2ZpdsK",
    "tags": []
   },
   "outputs": [],
   "source": [
    "n = 30"
   ]
  },
  {
   "cell_type": "markdown",
   "metadata": {
    "id": "9O2mCZW4pfOf"
   },
   "source": [
    "While we want our data to be random, for our purposes in this example we will want the data that we get to be repeatable (otherwise we could never have slides that use the same data as our notebook!). To do this, we set something called a random seed using [``np.random.seed``](https://docs.scipy.org/doc/numpy-1.10.0/reference/generated/numpy.random.seed.html). This ensures that when we generate random data using ``np.random``, we will always get the same thing. Here we use 7 as an arbitrary choice (not really, it's my favorite number)."
   ]
  },
  {
   "cell_type": "code",
   "execution_count": 3,
   "metadata": {
    "execution": {
     "iopub.execute_input": "2023-03-02T21:55:24.270105Z",
     "iopub.status.busy": "2023-03-02T21:55:24.269414Z",
     "iopub.status.idle": "2023-03-02T21:55:24.274562Z",
     "shell.execute_reply": "2023-03-02T21:55:24.273656Z",
     "shell.execute_reply.started": "2023-03-02T21:55:24.270061Z"
    },
    "executionInfo": {
     "elapsed": 242,
     "status": "ok",
     "timestamp": 1675261572106,
     "user": {
      "displayName": "Donatella Taurasi",
      "userId": "00673418551725000492"
     },
     "user_tz": -60
    },
    "id": "FeL1E8BWqEj_",
    "tags": []
   },
   "outputs": [],
   "source": [
    "np.random.seed(7)"
   ]
  },
  {
   "cell_type": "markdown",
   "metadata": {
    "id": "0FzXleYDpMiD"
   },
   "source": [
    "If we want to start getting truly (or, less predictable) random numbers again, then we would just call ``np.random.seed()`` with no parameters."
   ]
  },
  {
   "cell_type": "markdown",
   "metadata": {
    "id": "w7qtCCpwqSIm"
   },
   "source": [
    "## The x values\n",
    "\n",
    "Let's define ``x`` to be a set of points selected uniformly at random from the interval $[0, 3.14)$, using the [``np.random.uniform``](https://docs.scipy.org/doc/numpy/reference/generated/numpy.random.uniform.html) function."
   ]
  },
  {
   "cell_type": "code",
   "execution_count": 4,
   "metadata": {
    "colab": {
     "base_uri": "https://localhost:8080/"
    },
    "execution": {
     "iopub.execute_input": "2023-03-02T21:55:24.279389Z",
     "iopub.status.busy": "2023-03-02T21:55:24.278737Z",
     "iopub.status.idle": "2023-03-02T21:55:24.296601Z",
     "shell.execute_reply": "2023-03-02T21:55:24.295498Z",
     "shell.execute_reply.started": "2023-03-02T21:55:24.279357Z"
    },
    "executionInfo": {
     "elapsed": 225,
     "status": "ok",
     "timestamp": 1675261573689,
     "user": {
      "displayName": "Donatella Taurasi",
      "userId": "00673418551725000492"
     },
     "user_tz": -60
    },
    "id": "l1-3v7wPqTZL",
    "outputId": "c220f470-3ba2-4024-a801-b473ed4224b4",
    "tags": []
   },
   "outputs": [
    {
     "data": {
      "text/plain": [
       "array([0.23960803, 2.44894501, 1.37660499, 2.27168066, 3.07088707,\n",
       "       1.69087703, 1.57351826, 0.22624056, 0.8428984 , 1.56963105,\n",
       "       2.13278219, 2.52374057, 1.19615516, 0.20704013, 0.90477718,\n",
       "       2.85612368, 0.67003001, 1.41966924, 2.9239869 , 0.07818357,\n",
       "       1.8857236 , 2.98340663, 0.72315104, 1.72225835, 2.8546631 ,\n",
       "       0.41815206, 1.6435155 , 2.35628696, 2.10070158, 1.46874398])"
      ]
     },
     "execution_count": 4,
     "metadata": {},
     "output_type": "execute_result"
    }
   ],
   "source": [
    "x = np.random.uniform(0,3.14,n)\n",
    "x"
   ]
  },
  {
   "cell_type": "markdown",
   "metadata": {
    "id": "lKHgiRIeKVSG"
   },
   "source": [
    "Note that the first number in the series should be 0.23960803."
   ]
  },
  {
   "cell_type": "markdown",
   "metadata": {
    "id": "xeW7hUTzqlko"
   },
   "source": [
    "## The y values\n",
    "Let's define ``y`` using the function $y=\\sin(x)$ with some normally distributed noise added. The normally distributed noise is generated using the [``np.random.normal``](https://docs.scipy.org/doc/numpy/reference/generated/numpy.random.normal.html) function. We'll have the noise's distribution be centered at $0$ and have a standard deviation of $0.1$."
   ]
  },
  {
   "cell_type": "code",
   "execution_count": 5,
   "metadata": {
    "colab": {
     "base_uri": "https://localhost:8080/"
    },
    "execution": {
     "iopub.execute_input": "2023-03-02T21:55:24.298762Z",
     "iopub.status.busy": "2023-03-02T21:55:24.298108Z",
     "iopub.status.idle": "2023-03-02T21:55:24.309038Z",
     "shell.execute_reply": "2023-03-02T21:55:24.307863Z",
     "shell.execute_reply.started": "2023-03-02T21:55:24.298728Z"
    },
    "executionInfo": {
     "elapsed": 213,
     "status": "ok",
     "timestamp": 1675261670945,
     "user": {
      "displayName": "Donatella Taurasi",
      "userId": "00673418551725000492"
     },
     "user_tz": -60
    },
    "id": "C4QE-7rHqh7K",
    "outputId": "f1ec3cb1-c53b-4788-d159-93923e35e336"
   },
   "outputs": [
    {
     "data": {
      "text/plain": [
       "array([0.39975641, 0.57740129, 0.92838686, 0.65697532, 0.15718745,\n",
       "       0.7626451 , 1.17447747, 0.14819479, 0.77847847, 0.97506228,\n",
       "       0.99240937, 0.3732716 , 0.89839727, 0.16715871, 0.89966445,\n",
       "       0.17161835, 0.60376669, 0.90081618, 0.22011383, 0.13638547,\n",
       "       0.84075699, 0.27199951, 0.75190944, 1.03880097, 0.37309424,\n",
       "       0.33769964, 0.9850681 , 0.61346445, 0.83606616, 1.04783272])"
      ]
     },
     "execution_count": 5,
     "metadata": {},
     "output_type": "execute_result"
    }
   ],
   "source": [
    "np.random.seed(1)\n",
    "y = np.sin(x) + np.random.normal(0, 0.1, n)\n",
    "#y = np.sin(x)\n",
    "\n",
    "y"
   ]
  },
  {
   "cell_type": "markdown",
   "metadata": {
    "id": "b47u2T1iLuKm"
   },
   "source": [
    "Note that the first number should be 0.39975641."
   ]
  },
  {
   "cell_type": "markdown",
   "metadata": {
    "id": "Ror9-F5yrZq3"
   },
   "source": [
    "## Plotting the data\n",
    "Let's create a scatterplot of the data using the [``plt.scatter``](https://matplotlib.org/api/_as_gen/matplotlib.pyplot.scatter.html) function.\n",
    "\n",
    "One thing to note about ``matplotlib`` is that each call to ``plt`` will draw additional things on to your \"current\" plot. Only once you have drawn everything you need should you call [``plt.show``](https://matplotlib.org/api/_as_gen/matplotlib.pyplot.show.html), which will make the plot appear on-screen."
   ]
  },
  {
   "cell_type": "code",
   "execution_count": 6,
   "metadata": {
    "colab": {
     "base_uri": "https://localhost:8080/",
     "height": 265
    },
    "execution": {
     "iopub.execute_input": "2023-03-02T21:55:24.311375Z",
     "iopub.status.busy": "2023-03-02T21:55:24.310930Z",
     "iopub.status.idle": "2023-03-02T21:55:24.591330Z",
     "shell.execute_reply": "2023-03-02T21:55:24.590355Z",
     "shell.execute_reply.started": "2023-03-02T21:55:24.311347Z"
    },
    "executionInfo": {
     "elapsed": 254,
     "status": "ok",
     "timestamp": 1675261673841,
     "user": {
      "displayName": "Donatella Taurasi",
      "userId": "00673418551725000492"
     },
     "user_tz": -60
    },
    "id": "9MsrAUjDr3G-",
    "outputId": "f753beab-a683-4cd0-a1e6-cd5060bbb45a"
   },
   "outputs": [
    {
     "data": {
      "image/png": "[encoded data removed]",
      "text/plain": [
       "<Figure size 432x288 with 1 Axes>"
      ]
     },
     "metadata": {
      "needs_background": "light"
     },
     "output_type": "display_data"
    }
   ],
   "source": [
    "plt.scatter(x, y)\n",
    "plt.show()"
   ]
  },
  {
   "cell_type": "markdown",
   "metadata": {
    "id": "7rSr0WgLhVGb"
   },
   "source": [
    "# Fitting Various Models to Our Data"
   ]
  },
  {
   "cell_type": "markdown",
   "metadata": {
    "id": "zEr9VeEm91eL"
   },
   "source": [
    "## Linear regression\n",
    "\n",
    "In this section we will fit the data to a line. In future examples we'll use more sophisticated regressions packages from ``statsmodels``, but for now we will just use the [``np.polyfit``](https://docs.scipy.org/doc/numpy/reference/generated/numpy.polyfit.html) function."
   ]
  },
  {
   "cell_type": "markdown",
   "metadata": {
    "id": "vhQO7LXBEdE6"
   },
   "source": [
    "### Computing the linear fit\n",
    "\n",
    "When we call ``np.polyfit`` with our data, it will return a ``np.array`` with the polynomial coefficients, which we convert to a [``np.poly1d``](https://docs.scipy.org/doc/numpy/reference/generated/numpy.poly1d.html), which is ``numpy``'s polynomial class."
   ]
  },
  {
   "cell_type": "code",
   "execution_count": 106,
   "metadata": {
    "colab": {
     "base_uri": "https://localhost:8080/"
    },
    "execution": {
     "iopub.execute_input": "2023-03-03T00:38:49.209336Z",
     "iopub.status.busy": "2023-03-03T00:38:49.208557Z",
     "iopub.status.idle": "2023-03-03T00:38:49.223276Z",
     "shell.execute_reply": "2023-03-03T00:38:49.221803Z",
     "shell.execute_reply.started": "2023-03-03T00:38:49.209212Z"
    },
    "executionInfo": {
     "elapsed": 252,
     "status": "ok",
     "timestamp": 1675261781537,
     "user": {
      "displayName": "Donatella Taurasi",
      "userId": "00673418551725000492"
     },
     "user_tz": -60
    },
    "id": "v4zfJSR8TpgU",
    "outputId": "ee21ac7b-b9ec-4c2f-a8c0-d9211efaf7e8",
    "tags": []
   },
   "outputs": [
    {
     "name": "stdout",
     "output_type": "stream",
     "text": [
      "[-0.01810923  0.66316613]\n"
     ]
    }
   ],
   "source": [
    "linear_fit_coefficients = np.polyfit(x, y, deg=1)\n",
    "print(linear_fit_coefficients)"
   ]
  },
  {
   "cell_type": "code",
   "execution_count": 107,
   "metadata": {
    "colab": {
     "base_uri": "https://localhost:8080/"
    },
    "execution": {
     "iopub.execute_input": "2023-03-03T00:38:52.640666Z",
     "iopub.status.busy": "2023-03-03T00:38:52.640263Z",
     "iopub.status.idle": "2023-03-03T00:38:52.653147Z",
     "shell.execute_reply": "2023-03-03T00:38:52.652134Z",
     "shell.execute_reply.started": "2023-03-03T00:38:52.640637Z"
    },
    "executionInfo": {
     "elapsed": 217,
     "status": "ok",
     "timestamp": 1675261843560,
     "user": {
      "displayName": "Donatella Taurasi",
      "userId": "00673418551725000492"
     },
     "user_tz": -60
    },
    "id": "pXnBGvabsEy5",
    "outputId": "7b75b5bf-5ce1-4211-ccbe-c79d50c02623",
    "tags": []
   },
   "outputs": [
    {
     "name": "stdout",
     "output_type": "stream",
     "text": [
      "y = \n",
      " \n",
      "-0.01811 x + 0.6632\n"
     ]
    }
   ],
   "source": [
    "linear_fit = np.poly1d(linear_fit_coefficients)\n",
    "print('y = ')\n",
    "print(linear_fit)"
   ]
  },
  {
   "cell_type": "markdown",
   "metadata": {
    "id": "rWMkdYHbEjWe"
   },
   "source": [
    "### Computing RMSE\n",
    "\n",
    "We'll be using the function [``np.polyval``](https://docs.scipy.org/doc/numpy/reference/generated/numpy.polyfit.html) to evaluate our polynomial. Let's see what the ``y_predicted`` or $\\hat y$ value would be."
   ]
  },
  {
   "cell_type": "code",
   "execution_count": 108,
   "metadata": {
    "colab": {
     "base_uri": "https://localhost:8080/"
    },
    "execution": {
     "iopub.execute_input": "2023-03-03T00:39:00.173022Z",
     "iopub.status.busy": "2023-03-03T00:39:00.172436Z",
     "iopub.status.idle": "2023-03-03T00:39:00.193009Z",
     "shell.execute_reply": "2023-03-03T00:39:00.191721Z",
     "shell.execute_reply.started": "2023-03-03T00:39:00.172952Z"
    },
    "executionInfo": {
     "elapsed": 230,
     "status": "ok",
     "timestamp": 1675261901954,
     "user": {
      "displayName": "Donatella Taurasi",
      "userId": "00673418551725000492"
     },
     "user_tz": -60
    },
    "id": "GcMyC5iZ-pyh",
    "outputId": "1175520e-0fed-4c3a-c5ae-82f1931d3cb8",
    "tags": []
   },
   "outputs": [
    {
     "data": {
      "text/plain": [
       "array([0.65882701, 0.61881762, 0.63823687, 0.62202774, 0.60755473,\n",
       "       0.63254565, 0.63467092, 0.65906909, 0.64790189, 0.63474132,\n",
       "       0.62454308, 0.61746313, 0.64150468, 0.65941679, 0.64678131,\n",
       "       0.61144393, 0.6510324 , 0.63745701, 0.61021498, 0.66175029,\n",
       "       0.62901713, 0.60913893, 0.65007042, 0.63197736, 0.61147038,\n",
       "       0.65559372, 0.63340333, 0.62049558, 0.62512404, 0.63656831])"
      ]
     },
     "execution_count": 108,
     "metadata": {},
     "output_type": "execute_result"
    }
   ],
   "source": [
    "y_predicted = np.polyval(linear_fit, x)\n",
    "y_predicted"
   ]
  },
  {
   "cell_type": "markdown",
   "metadata": {
    "id": "l1esbFjvFi51"
   },
   "source": [
    "We can compute the residual for each sample by just subtracting one from the other."
   ]
  },
  {
   "cell_type": "code",
   "execution_count": 109,
   "metadata": {
    "colab": {
     "base_uri": "https://localhost:8080/"
    },
    "execution": {
     "iopub.execute_input": "2023-03-03T00:39:01.112555Z",
     "iopub.status.busy": "2023-03-03T00:39:01.111527Z",
     "iopub.status.idle": "2023-03-03T00:39:01.120860Z",
     "shell.execute_reply": "2023-03-03T00:39:01.119794Z",
     "shell.execute_reply.started": "2023-03-03T00:39:01.112461Z"
    },
    "executionInfo": {
     "elapsed": 297,
     "status": "ok",
     "timestamp": 1675261931568,
     "user": {
      "displayName": "Donatella Taurasi",
      "userId": "00673418551725000492"
     },
     "user_tz": -60
    },
    "id": "UBA0qMyXFnG4",
    "outputId": "95c358ab-9051-4b74-c019-87cb208cac9e",
    "tags": []
   },
   "outputs": [
    {
     "data": {
      "text/plain": [
       "array([-0.2590706 , -0.04141633,  0.29014999,  0.03494758, -0.45036728,\n",
       "        0.13009945,  0.53980655, -0.5108743 ,  0.13057658,  0.34032097,\n",
       "        0.36786629, -0.24419152,  0.25689259, -0.49225808,  0.25288314,\n",
       "       -0.43982557, -0.04726571,  0.26335917, -0.39010114, -0.52536482,\n",
       "        0.21173986, -0.33713942,  0.10183902,  0.40682362, -0.23837613,\n",
       "       -0.31789408,  0.35166478, -0.00703113,  0.21094212,  0.41126442])"
      ]
     },
     "execution_count": 109,
     "metadata": {},
     "output_type": "execute_result"
    }
   ],
   "source": [
    "linear_fit_residual = y - y_predicted\n",
    "linear_fit_residual"
   ]
  },
  {
   "cell_type": "markdown",
   "metadata": {
    "id": "XQ5mHlJRFUo3"
   },
   "source": [
    "Let's compute the RMSE, since that will give us a single value for our fit.\n",
    "\n",
    "We'll compute the \"root\" part of RMSE using ``np.sqrt``, the \"mean\" part of RMSE using ``np.mean``, and the \"square\" part of RMSE using ``np.square`` as follows."
   ]
  },
  {
   "cell_type": "code",
   "execution_count": 110,
   "metadata": {
    "colab": {
     "base_uri": "https://localhost:8080/"
    },
    "execution": {
     "iopub.execute_input": "2023-03-03T00:39:03.613616Z",
     "iopub.status.busy": "2023-03-03T00:39:03.613222Z",
     "iopub.status.idle": "2023-03-03T00:39:03.619180Z",
     "shell.execute_reply": "2023-03-03T00:39:03.618136Z",
     "shell.execute_reply.started": "2023-03-03T00:39:03.613587Z"
    },
    "executionInfo": {
     "elapsed": 227,
     "status": "ok",
     "timestamp": 1675261978991,
     "user": {
      "displayName": "Donatella Taurasi",
      "userId": "00673418551725000492"
     },
     "user_tz": -60
    },
    "id": "9LDIS9InFQxA",
    "outputId": "eb7274f4-d080-4906-f185-39ce67aebad8",
    "tags": []
   },
   "outputs": [
    {
     "name": "stdout",
     "output_type": "stream",
     "text": [
      "Linear fit RMSE = 0.3240009448516887\n"
     ]
    }
   ],
   "source": [
    "linear_fit_rmse = np.sqrt(np.mean(np.square(linear_fit_residual)))\n",
    "print(\"Linear fit RMSE = \" + str(linear_fit_rmse))"
   ]
  },
  {
   "cell_type": "markdown",
   "metadata": {
    "id": "BcIfCfWbGirO"
   },
   "source": [
    "### Plotting the fit\n",
    "\n",
    "A more intuitive way to look at a fit would be to plot it next to the data that we want to view.\n",
    "\n",
    "To do this, we will need to create data for the $x$ values line. Let's call this ``x_line``, and use [``np.arange``](https://docs.scipy.org/doc/numpy/reference/generated/numpy.arange.html) to set it to be taking 200 samples from ``x.min()`` to ``x.max()``."
   ]
  },
  {
   "cell_type": "code",
   "execution_count": 111,
   "metadata": {
    "colab": {
     "base_uri": "https://localhost:8080/",
     "height": 711
    },
    "execution": {
     "iopub.execute_input": "2023-03-03T00:39:16.795485Z",
     "iopub.status.busy": "2023-03-03T00:39:16.795028Z",
     "iopub.status.idle": "2023-03-03T00:39:16.816713Z",
     "shell.execute_reply": "2023-03-03T00:39:16.815800Z",
     "shell.execute_reply.started": "2023-03-03T00:39:16.795451Z"
    },
    "executionInfo": {
     "elapsed": 228,
     "status": "ok",
     "timestamp": 1675262040269,
     "user": {
      "displayName": "Donatella Taurasi",
      "userId": "00673418551725000492"
     },
     "user_tz": -60
    },
    "id": "XmFZdlaIF12W",
    "outputId": "422b7517-6389-4d06-83de-3ef511e33893",
    "scrolled": true,
    "tags": []
   },
   "outputs": [
    {
     "data": {
      "text/plain": [
       "array([0.07818357, 0.09314709, 0.10811061, 0.12307413, 0.13803764,\n",
       "       0.15300116, 0.16796468, 0.1829282 , 0.19789171, 0.21285523,\n",
       "       0.22781875, 0.24278227, 0.25774578, 0.2727093 , 0.28767282,\n",
       "       0.30263634, 0.31759985, 0.33256337, 0.34752689, 0.36249041,\n",
       "       0.37745392, 0.39241744, 0.40738096, 0.42234448, 0.43730799,\n",
       "       0.45227151, 0.46723503, 0.48219855, 0.49716206, 0.51212558,\n",
       "       0.5270891 , 0.54205262, 0.55701613, 0.57197965, 0.58694317,\n",
       "       0.60190669, 0.6168702 , 0.63183372, 0.64679724, 0.66176076,\n",
       "       0.67672427, 0.69168779, 0.70665131, 0.72161483, 0.73657834,\n",
       "       0.75154186, 0.76650538, 0.7814689 , 0.79643241, 0.81139593,\n",
       "       0.82635945, 0.84132297, 0.85628648, 0.87125   , 0.88621352,\n",
       "       0.90117704, 0.91614055, 0.93110407, 0.94606759, 0.9610311 ,\n",
       "       0.97599462, 0.99095814, 1.00592166, 1.02088517, 1.03584869,\n",
       "       1.05081221, 1.06577573, 1.08073924, 1.09570276, 1.11066628,\n",
       "       1.1256298 , 1.14059331, 1.15555683, 1.17052035, 1.18548387,\n",
       "       1.20044738, 1.2154109 , 1.23037442, 1.24533794, 1.26030145,\n",
       "       1.27526497, 1.29022849, 1.30519201, 1.32015552, 1.33511904,\n",
       "       1.35008256, 1.36504608, 1.38000959, 1.39497311, 1.40993663,\n",
       "       1.42490015, 1.43986366, 1.45482718, 1.4697907 , 1.48475422,\n",
       "       1.49971773, 1.51468125, 1.52964477, 1.54460829, 1.5595718 ,\n",
       "       1.57453532, 1.58949884, 1.60446236, 1.61942587, 1.63438939,\n",
       "       1.64935291, 1.66431643, 1.67927994, 1.69424346, 1.70920698,\n",
       "       1.7241705 , 1.73913401, 1.75409753, 1.76906105, 1.78402457,\n",
       "       1.79898808, 1.8139516 , 1.82891512, 1.84387864, 1.85884215,\n",
       "       1.87380567, 1.88876919, 1.90373271, 1.91869622, 1.93365974,\n",
       "       1.94862326, 1.96358678, 1.97855029, 1.99351381, 2.00847733,\n",
       "       2.02344085, 2.03840436, 2.05336788, 2.0683314 , 2.08329491,\n",
       "       2.09825843, 2.11322195, 2.12818547, 2.14314898, 2.1581125 ,\n",
       "       2.17307602, 2.18803954, 2.20300305, 2.21796657, 2.23293009,\n",
       "       2.24789361, 2.26285712, 2.27782064, 2.29278416, 2.30774768,\n",
       "       2.32271119, 2.33767471, 2.35263823, 2.36760175, 2.38256526,\n",
       "       2.39752878, 2.4124923 , 2.42745582, 2.44241933, 2.45738285,\n",
       "       2.47234637, 2.48730989, 2.5022734 , 2.51723692, 2.53220044,\n",
       "       2.54716396, 2.56212747, 2.57709099, 2.59205451, 2.60701803,\n",
       "       2.62198154, 2.63694506, 2.65190858, 2.6668721 , 2.68183561,\n",
       "       2.69679913, 2.71176265, 2.72672617, 2.74168968, 2.7566532 ,\n",
       "       2.77161672, 2.78658024, 2.80154375, 2.81650727, 2.83147079,\n",
       "       2.84643431, 2.86139782, 2.87636134, 2.89132486, 2.90628838,\n",
       "       2.92125189, 2.93621541, 2.95117893, 2.96614245, 2.98110596,\n",
       "       2.99606948, 3.011033  , 3.02599652, 3.04096003, 3.05592355])"
      ]
     },
     "metadata": {},
     "output_type": "display_data"
    }
   ],
   "source": [
    "x_line_step = (x.max() - x.min()) / 200\n",
    "x_line = np.arange(x.min(), x.max(), x_line_step)\n",
    "display(x_line)"
   ]
  },
  {
   "cell_type": "markdown",
   "metadata": {
    "id": "VbPFOeDsH-67"
   },
   "source": [
    "Now we can plot the our data and the prediction together. We'll use ``np.polyval`` to evaluate ``linear_fit`` at ``x_line``."
   ]
  },
  {
   "cell_type": "code",
   "execution_count": 112,
   "metadata": {
    "colab": {
     "base_uri": "https://localhost:8080/",
     "height": 265
    },
    "execution": {
     "iopub.execute_input": "2023-03-03T00:39:19.993218Z",
     "iopub.status.busy": "2023-03-03T00:39:19.992790Z",
     "iopub.status.idle": "2023-03-03T00:39:20.312189Z",
     "shell.execute_reply": "2023-03-03T00:39:20.311078Z",
     "shell.execute_reply.started": "2023-03-03T00:39:19.993182Z"
    },
    "executionInfo": {
     "elapsed": 273,
     "status": "ok",
     "timestamp": 1675262043838,
     "user": {
      "displayName": "Donatella Taurasi",
      "userId": "00673418551725000492"
     },
     "user_tz": -60
    },
    "id": "BimG4K5xHSWG",
    "outputId": "d417a696-42f6-45e1-eaf6-6290e5cad681",
    "tags": []
   },
   "outputs": [
    {
     "data": {
      "image/png": "[encoded data removed]",
      "text/plain": [
       "<Figure size 432x288 with 1 Axes>"
      ]
     },
     "metadata": {
      "needs_background": "light"
     },
     "output_type": "display_data"
    }
   ],
   "source": [
    "plt.scatter(x, y, label='Data')\n",
    "plt.plot(x_line, np.polyval(linear_fit, x_line), label='Linear Fit')\n",
    "plt.legend()\n",
    "plt.show()"
   ]
  },
  {
   "cell_type": "markdown",
   "metadata": {
    "id": "6AiXXQ-9QvSe"
   },
   "source": [
    "Do you feel like this fit captures the underlying trend of the data? "
   ]
  },
  {
   "cell_type": "markdown",
   "metadata": {
    "id": "rWem_b8DIYGp"
   },
   "source": [
    "## Coding Dojo: Quadratic fit\n",
    "\n",
    "The linear fit doesn't fit our data very well. So maybe we can do better if we try to fit a slightly more complicated model -- a quadratic polynomial. We can do this again with ``np.polyfit``, with the only difference being that we'll use ``deg=2``."
   ]
  },
  {
   "cell_type": "code",
   "execution_count": 178,
   "metadata": {
    "execution": {
     "iopub.execute_input": "2023-03-03T00:59:12.425078Z",
     "iopub.status.busy": "2023-03-03T00:59:12.424655Z",
     "iopub.status.idle": "2023-03-03T00:59:12.432638Z",
     "shell.execute_reply": "2023-03-03T00:59:12.431611Z",
     "shell.execute_reply.started": "2023-03-03T00:59:12.425045Z"
    },
    "id": "x19mS8F1TRm4",
    "tags": []
   },
   "outputs": [],
   "source": [
    "## Fitting quadratic model to data\n",
    "x2_coefs = npp.polyfit(x, y, deg=2)\n",
    "\n",
    "## Evaluating model for every x value\n",
    "x2_yhat = npp.polyval(x, x2_coefs)"
   ]
  },
  {
   "cell_type": "code",
   "execution_count": 179,
   "metadata": {
    "execution": {
     "iopub.execute_input": "2023-03-03T00:59:12.435386Z",
     "iopub.status.busy": "2023-03-03T00:59:12.434899Z",
     "iopub.status.idle": "2023-03-03T00:59:12.441208Z",
     "shell.execute_reply": "2023-03-03T00:59:12.440218Z",
     "shell.execute_reply.started": "2023-03-03T00:59:12.435353Z"
    },
    "tags": []
   },
   "outputs": [
    {
     "name": "stdout",
     "output_type": "stream",
     "text": [
      "x2 fit RMSE = 0.10278877420295351\n"
     ]
    }
   ],
   "source": [
    "## Calculating the RSME of the model\n",
    "x2_residual = y - x2_yhat\n",
    "x2_rmse = np.sqrt(np.mean(np.square(x2_residual)))\n",
    "print(\"x2 fit RMSE = \" + str(x2_rmse))"
   ]
  },
  {
   "cell_type": "code",
   "execution_count": 180,
   "metadata": {
    "execution": {
     "iopub.execute_input": "2023-03-03T00:59:12.450372Z",
     "iopub.status.busy": "2023-03-03T00:59:12.449981Z",
     "iopub.status.idle": "2023-03-03T00:59:12.703136Z",
     "shell.execute_reply": "2023-03-03T00:59:12.701838Z",
     "shell.execute_reply.started": "2023-03-03T00:59:12.450343Z"
    },
    "tags": []
   },
   "outputs": [
    {
     "data": {
      "image/png": "[encoded data removed]",
      "text/plain": [
       "<Figure size 432x288 with 1 Axes>"
      ]
     },
     "metadata": {
      "needs_background": "light"
     },
     "output_type": "display_data"
    }
   ],
   "source": [
    "## Generating plot\n",
    "plt.scatter(x, y, label='data')\n",
    "plt.plot(x_line, np.polynomial.polynomial.polyval(x_line, x2_coefs), label='x2_fit')\n",
    "plt.legend()\n",
    "plt.show()"
   ]
  },
  {
   "cell_type": "markdown",
   "metadata": {
    "id": "K0QBQvSGJwgt"
   },
   "source": [
    "That's great! If going from $x$ to $x^2$ was good, then maybe $x^3$ is better! Maybe $x^4$ is better!"
   ]
  },
  {
   "cell_type": "markdown",
   "metadata": {
    "id": "W9ng3sx0LSKG"
   },
   "source": [
    "### Creating a function\n",
    "\n",
    "We'll be running the same code over and over and over again, so it'll be convenient to write a function to do it for us. Let's write the function ``FitPolynomial``, which will have ``P`` be the degree of our polynomial to fit."
   ]
  },
  {
   "cell_type": "code",
   "execution_count": 181,
   "metadata": {
    "execution": {
     "iopub.execute_input": "2023-03-03T01:00:02.347206Z",
     "iopub.status.busy": "2023-03-03T01:00:02.346799Z",
     "iopub.status.idle": "2023-03-03T01:00:02.360706Z",
     "shell.execute_reply": "2023-03-03T01:00:02.359796Z",
     "shell.execute_reply.started": "2023-03-03T01:00:02.347173Z"
    },
    "executionInfo": {
     "elapsed": 240,
     "status": "ok",
     "timestamp": 1675262429237,
     "user": {
      "displayName": "Donatella Taurasi",
      "userId": "00673418551725000492"
     },
     "user_tz": -60
    },
    "id": "NSM-JY9vLfHE",
    "tags": []
   },
   "outputs": [],
   "source": [
    "def FitPolynomial(P):\n",
    "  # Compute and print the polynomial fit!\n",
    "  degree_P_fit = np.poly1d(np.polyfit(x, y, deg=P))\n",
    "  print('y = ')\n",
    "  print(degree_P_fit)\n",
    "  # Compute and print the RMSE\n",
    "  degree_P_fit_residual = y - np.polyval(degree_P_fit, x)\n",
    "  degree_P_fit_rmse = np.sqrt(np.mean(np.square(degree_P_fit_residual)))\n",
    "  print(str(P) + 'th degree fit RMSE = ' + str(degree_P_fit_rmse))\n",
    "  # Plot the fit\n",
    "  plt.plot(x_line, np.polyval(degree_P_fit, x_line), label=str(P) + 'th Degree Fit')\n",
    "  plt.scatter(x, y, label='Data')\n",
    "  # Use the function plt.ylim to ensure that we see the same y axis for every fit\n",
    "  # (we'll see why shortly)\n",
    "  plt.ylim([0, 1.2])\n",
    "  plt.legend()\n",
    "  plt.show()"
   ]
  },
  {
   "cell_type": "markdown",
   "metadata": {
    "id": "RO2Xk-wsL7uU"
   },
   "source": [
    "## Cubic fit"
   ]
  },
  {
   "cell_type": "code",
   "execution_count": 182,
   "metadata": {
    "colab": {
     "base_uri": "https://localhost:8080/",
     "height": 338
    },
    "execution": {
     "iopub.execute_input": "2023-03-03T01:00:03.809399Z",
     "iopub.status.busy": "2023-03-03T01:00:03.808989Z",
     "iopub.status.idle": "2023-03-03T01:00:04.077444Z",
     "shell.execute_reply": "2023-03-03T01:00:04.076432Z",
     "shell.execute_reply.started": "2023-03-03T01:00:03.809369Z"
    },
    "executionInfo": {
     "elapsed": 271,
     "status": "ok",
     "timestamp": 1675262499173,
     "user": {
      "displayName": "Donatella Taurasi",
      "userId": "00673418551725000492"
     },
     "user_tz": -60
    },
    "id": "b2JvoVuQJtlI",
    "outputId": "253f8498-7d33-40d7-858c-c3f7018700a7",
    "tags": []
   },
   "outputs": [
    {
     "name": "stdout",
     "output_type": "stream",
     "text": [
      "y = \n",
      "         3          2\n",
      "0.05719 x - 0.6673 x + 1.571 x - 0.08152\n",
      "3th degree fit RMSE = 0.09803905750954606\n"
     ]
    },
    {
     "data": {
      "image/png": "[encoded data removed]",
      "text/plain": [
       "<Figure size 432x288 with 1 Axes>"
      ]
     },
     "metadata": {
      "needs_background": "light"
     },
     "output_type": "display_data"
    }
   ],
   "source": [
    "FitPolynomial(3)"
   ]
  },
  {
   "cell_type": "markdown",
   "metadata": {
    "id": "crSLhXSPLP1M"
   },
   "source": [
    "## 4th degree fit"
   ]
  },
  {
   "cell_type": "code",
   "execution_count": 183,
   "metadata": {
    "colab": {
     "base_uri": "https://localhost:8080/",
     "height": 338
    },
    "execution": {
     "iopub.execute_input": "2023-03-03T01:00:06.606750Z",
     "iopub.status.busy": "2023-03-03T01:00:06.606333Z",
     "iopub.status.idle": "2023-03-03T01:00:06.862806Z",
     "shell.execute_reply": "2023-03-03T01:00:06.861827Z",
     "shell.execute_reply.started": "2023-03-03T01:00:06.606720Z"
    },
    "executionInfo": {
     "elapsed": 267,
     "status": "ok",
     "timestamp": 1675262535358,
     "user": {
      "displayName": "Donatella Taurasi",
      "userId": "00673418551725000492"
     },
     "user_tz": -60
    },
    "id": "ZlFXtuyNKLl-",
    "outputId": "663dc23b-5196-44e6-a008-a15fa45604c7",
    "tags": []
   },
   "outputs": [
    {
     "name": "stdout",
     "output_type": "stream",
     "text": [
      "y = \n",
      "         4          3          2\n",
      "0.08514 x - 0.4812 x + 0.4359 x + 0.7761 x + 0.04794\n",
      "4th degree fit RMSE = 0.09148959316488392\n"
     ]
    },
    {
     "data": {
      "image/png": "[encoded data removed]",
      "text/plain": [
       "<Figure size 432x288 with 1 Axes>"
      ]
     },
     "metadata": {
      "needs_background": "light"
     },
     "output_type": "display_data"
    }
   ],
   "source": [
    "FitPolynomial(4)"
   ]
  },
  {
   "cell_type": "markdown",
   "metadata": {
    "id": "pq05AEiXMO1C"
   },
   "source": [
    "## 6th degree fit"
   ]
  },
  {
   "cell_type": "code",
   "execution_count": 184,
   "metadata": {
    "colab": {
     "base_uri": "https://localhost:8080/",
     "height": 338
    },
    "execution": {
     "iopub.execute_input": "2023-03-03T01:00:08.750829Z",
     "iopub.status.busy": "2023-03-03T01:00:08.750398Z",
     "iopub.status.idle": "2023-03-03T01:00:09.007738Z",
     "shell.execute_reply": "2023-03-03T01:00:09.006732Z",
     "shell.execute_reply.started": "2023-03-03T01:00:08.750796Z"
    },
    "executionInfo": {
     "elapsed": 311,
     "status": "ok",
     "timestamp": 1675262548084,
     "user": {
      "displayName": "Donatella Taurasi",
      "userId": "00673418551725000492"
     },
     "user_tz": -60
    },
    "id": "-Pm-ppdFMEhT",
    "outputId": "893802bb-3dda-400a-ecd4-533c45efbd20",
    "tags": []
   },
   "outputs": [
    {
     "name": "stdout",
     "output_type": "stream",
     "text": [
      "y = \n",
      "         6          5         4         3         2\n",
      "0.04937 x - 0.4542 x + 1.672 x - 3.099 x + 2.492 x + 0.1052 x + 0.1093\n",
      "6th degree fit RMSE = 0.09042262043914874\n"
     ]
    },
    {
     "data": {
      "image/png": "[encoded data removed]",
      "text/plain": [
       "<Figure size 432x288 with 1 Axes>"
      ]
     },
     "metadata": {
      "needs_background": "light"
     },
     "output_type": "display_data"
    }
   ],
   "source": [
    "FitPolynomial(6)"
   ]
  },
  {
   "cell_type": "markdown",
   "metadata": {
    "id": "MH0DVFIlMTje"
   },
   "source": [
    "## 9th degree fit"
   ]
  },
  {
   "cell_type": "code",
   "execution_count": 185,
   "metadata": {
    "colab": {
     "base_uri": "https://localhost:8080/",
     "height": 373
    },
    "execution": {
     "iopub.execute_input": "2023-03-03T01:00:10.222069Z",
     "iopub.status.busy": "2023-03-03T01:00:10.221637Z",
     "iopub.status.idle": "2023-03-03T01:00:10.480683Z",
     "shell.execute_reply": "2023-03-03T01:00:10.479740Z",
     "shell.execute_reply.started": "2023-03-03T01:00:10.222035Z"
    },
    "executionInfo": {
     "elapsed": 254,
     "status": "ok",
     "timestamp": 1675262574745,
     "user": {
      "displayName": "Donatella Taurasi",
      "userId": "00673418551725000492"
     },
     "user_tz": -60
    },
    "id": "kHJeJYmxMGEK",
    "outputId": "d687d956-1fce-4a2b-9ca0-e6cddb01b997",
    "tags": []
   },
   "outputs": [
    {
     "name": "stdout",
     "output_type": "stream",
     "text": [
      "y = \n",
      "          9          8          7          6         5         4\n",
      "-0.03745 x + 0.3441 x - 0.8893 x - 0.9164 x + 8.778 x - 17.13 x\n",
      "          3         2\n",
      " + 14.38 x - 5.058 x + 1.381 x + 0.05088\n",
      "9th degree fit RMSE = 0.08561872314471489\n"
     ]
    },
    {
     "data": {
      "image/png": "[encoded data removed]",
      "text/plain": [
       "<Figure size 432x288 with 1 Axes>"
      ]
     },
     "metadata": {
      "needs_background": "light"
     },
     "output_type": "display_data"
    }
   ],
   "source": [
    "FitPolynomial(9)"
   ]
  },
  {
   "cell_type": "markdown",
   "metadata": {
    "id": "Qk70jYjVMhp3"
   },
   "source": [
    "## 12th degree fit"
   ]
  },
  {
   "cell_type": "code",
   "execution_count": 186,
   "metadata": {
    "colab": {
     "base_uri": "https://localhost:8080/",
     "height": 373
    },
    "execution": {
     "iopub.execute_input": "2023-03-03T01:00:15.745407Z",
     "iopub.status.busy": "2023-03-03T01:00:15.744983Z",
     "iopub.status.idle": "2023-03-03T01:00:16.005724Z",
     "shell.execute_reply": "2023-03-03T01:00:16.004587Z",
     "shell.execute_reply.started": "2023-03-03T01:00:15.745374Z"
    },
    "executionInfo": {
     "elapsed": 254,
     "status": "ok",
     "timestamp": 1675262583882,
     "user": {
      "displayName": "Donatella Taurasi",
      "userId": "00673418551725000492"
     },
     "user_tz": -60
    },
    "id": "0T85SdGkMGqp",
    "outputId": "51663acf-acb3-4dd3-87b4-2f6868af4a10",
    "tags": []
   },
   "outputs": [
    {
     "name": "stdout",
     "output_type": "stream",
     "text": [
      "y = \n",
      "        12         11         10       9        8        7        6\n",
      "0.8077 x  - 15.31 x  + 127.5 x  - 614 x + 1891 x - 3894 x + 5437 x\n",
      "         5        4        3         2\n",
      " - 5116 x + 3165 x - 1226 x + 274.7 x - 29.98 x + 1.279\n",
      "12th degree fit RMSE = 0.08170455828278336\n"
     ]
    },
    {
     "data": {
      "image/png": "[encoded data removed]",
      "text/plain": [
       "<Figure size 432x288 with 1 Axes>"
      ]
     },
     "metadata": {
      "needs_background": "light"
     },
     "output_type": "display_data"
    }
   ],
   "source": [
    "FitPolynomial(12)"
   ]
  },
  {
   "cell_type": "markdown",
   "metadata": {
    "id": "LDCohvBnMqYM"
   },
   "source": [
    "What about this fit? Does it still look good to you?"
   ]
  },
  {
   "cell_type": "markdown",
   "metadata": {
    "id": "hxkAGf05Mqe7"
   },
   "source": [
    "## 16th degree fit"
   ]
  },
  {
   "cell_type": "code",
   "execution_count": 187,
   "metadata": {
    "colab": {
     "base_uri": "https://localhost:8080/",
     "height": 408
    },
    "execution": {
     "iopub.execute_input": "2023-03-03T01:00:18.638127Z",
     "iopub.status.busy": "2023-03-03T01:00:18.637662Z",
     "iopub.status.idle": "2023-03-03T01:00:18.890820Z",
     "shell.execute_reply": "2023-03-03T01:00:18.889650Z",
     "shell.execute_reply.started": "2023-03-03T01:00:18.638094Z"
    },
    "executionInfo": {
     "elapsed": 277,
     "status": "ok",
     "timestamp": 1675262589073,
     "user": {
      "displayName": "Donatella Taurasi",
      "userId": "00673418551725000492"
     },
     "user_tz": -60
    },
    "id": "ubAziVL2MnYe",
    "outputId": "68bec9bb-44d7-4c29-f3f0-6100006abe27",
    "tags": []
   },
   "outputs": [
    {
     "name": "stdout",
     "output_type": "stream",
     "text": [
      "y = \n",
      "       16         15         14        13             12             11\n",
      "2.016 x  - 51.97 x  + 610.1 x  - 4321 x  + 2.061e+04 x  - 6.997e+04 x \n",
      "              10             9             8             7\n",
      " + 1.745e+05 x  - 3.247e+05 x + 4.543e+05 x - 4.772e+05 x\n",
      "              6             5             4             3        2\n",
      " + 3.732e+05 x - 2.134e+05 x + 8.667e+04 x - 2.382e+04 x + 4083 x - 375.6 x + 13.24\n",
      "16th degree fit RMSE = 0.07479450264076039\n"
     ]
    },
    {
     "data": {
      "image/png": "[encoded data removed]",
      "text/plain": [
       "<Figure size 432x288 with 1 Axes>"
      ]
     },
     "metadata": {
      "needs_background": "light"
     },
     "output_type": "display_data"
    }
   ],
   "source": [
    "FitPolynomial(16)"
   ]
  },
  {
   "cell_type": "markdown",
   "metadata": {
    "id": "ZC0jitNbMppg"
   },
   "source": [
    "## Finding the Best Hyperparameter\n",
    "\n",
    "But our RMSE has kept going down!\n",
    "\n",
    "Let's plot polynomial degree on the X axis versus RMSE on the Y axis all the way through from degree 0 (a constant) through a degree 16 polynomial."
   ]
  },
  {
   "cell_type": "code",
   "execution_count": 188,
   "metadata": {
    "colab": {
     "base_uri": "https://localhost:8080/",
     "height": 279
    },
    "execution": {
     "iopub.execute_input": "2023-03-03T01:01:09.062700Z",
     "iopub.status.busy": "2023-03-03T01:01:09.062284Z",
     "iopub.status.idle": "2023-03-03T01:01:09.284362Z",
     "shell.execute_reply": "2023-03-03T01:01:09.283512Z",
     "shell.execute_reply.started": "2023-03-03T01:01:09.062666Z"
    },
    "executionInfo": {
     "elapsed": 286,
     "status": "ok",
     "timestamp": 1675262795091,
     "user": {
      "displayName": "Donatella Taurasi",
      "userId": "00673418551725000492"
     },
     "user_tz": -60
    },
    "id": "wRhaItNfPEs5",
    "outputId": "a3416881-cd84-4299-8bd4-11fa983da023",
    "tags": []
   },
   "outputs": [
    {
     "data": {
      "image/png": "[encoded data removed]",
      "text/plain": [
       "<Figure size 432x288 with 1 Axes>"
      ]
     },
     "metadata": {
      "needs_background": "light"
     },
     "output_type": "display_data"
    }
   ],
   "source": [
    "# This is going to be our X data. Let's call it degrees and set it to all of\n",
    "# the degrees we will check, from 0 through 16.\n",
    "degrees = np.arange(17)\n",
    "\n",
    "# This is going to be our Y data. It will be the RMSE for each degree. We don't\n",
    "# know the values yet (we will compute them), so let's initialize it to zero.\n",
    "rmse_for_degree = np.zeros(17)\n",
    "\n",
    "# And for each degree, let's compute the RMSE\n",
    "for P in degrees:\n",
    "  degree_P_fit = np.poly1d(np.polyfit(x, y, deg=P))\n",
    "  residual = y - np.polyval(degree_P_fit, x)\n",
    "  rmse = np.sqrt(np.mean(np.square(residual)))\n",
    "  # Save the RMSE in our Y data\n",
    "  rmse_for_degree[P] = rmse\n",
    "\n",
    "# And let's plot the results.\n",
    "plt.plot(degrees, rmse_for_degree)\n",
    "plt.xlabel('Polynomial degree')\n",
    "plt.ylabel('RMSE')\n",
    "plt.show()"
   ]
  },
  {
   "cell_type": "markdown",
   "metadata": {
    "id": "dfpo5tpPRPwf"
   },
   "source": [
    "Our original goal was to find the best hyperparameter (the polynomial degree that is the best fit for our data), but it's not clear from this graph what that is!"
   ]
  },
  {
   "cell_type": "markdown",
   "metadata": {
    "id": "SZJjQOIXRm9h"
   },
   "source": [
    "# Training/Test Split\n",
    "\n",
    "In this section, we'll split our data into two sets -- one for testing and one for training. We'll tune our hyperparameter by evaluating how a model trained on the training set performs on the testing set."
   ]
  },
  {
   "cell_type": "markdown",
   "metadata": {
    "id": "F4tcY8I1ZCEh"
   },
   "source": [
    "## Splitting the data\n",
    "\n",
    "Here we produce a set of indices for training and testing. The indices are numbers from ``0`` to  ``n`` that indicate positions in the ``x`` and ``y`` arrays.\n",
    "\n",
    "We do this by using the [``sklearn.model_selection.train_test_split``](https://scikit-learn.org/stable/modules/generated/sklearn.model_selection.train_test_split.html) function.\n",
    "\n",
    "We'll split the indices evenly using the ``test_size`` parameter. The ``random_state`` parameter sets the random seed for the operation."
   ]
  },
  {
   "cell_type": "code",
   "execution_count": 23,
   "metadata": {
    "colab": {
     "base_uri": "https://localhost:8080/"
    },
    "execution": {
     "iopub.execute_input": "2023-03-02T21:55:27.120187Z",
     "iopub.status.busy": "2023-03-02T21:55:27.119549Z",
     "iopub.status.idle": "2023-03-02T21:55:27.128753Z",
     "shell.execute_reply": "2023-03-02T21:55:27.127248Z",
     "shell.execute_reply.started": "2023-03-02T21:55:27.120119Z"
    },
    "executionInfo": {
     "elapsed": 228,
     "status": "ok",
     "timestamp": 1675262905558,
     "user": {
      "displayName": "Donatella Taurasi",
      "userId": "00673418551725000492"
     },
     "user_tz": -60
    },
    "id": "Xd5gzmklX_-P",
    "outputId": "7fa85832-237b-48f0-fc76-fc9582781410"
   },
   "outputs": [
    {
     "name": "stdout",
     "output_type": "stream",
     "text": [
      "All indices:\n",
      "[ 0  1  2  3  4  5  6  7  8  9 10 11 12 13 14 15 16 17 18 19 20 21 22 23\n",
      " 24 25 26 27 28 29]\n"
     ]
    }
   ],
   "source": [
    "all_indices = np.arange(n)\n",
    "print('All indices:')\n",
    "print(all_indices)"
   ]
  },
  {
   "cell_type": "code",
   "execution_count": 24,
   "metadata": {
    "colab": {
     "base_uri": "https://localhost:8080/"
    },
    "execution": {
     "iopub.execute_input": "2023-03-02T21:55:27.131373Z",
     "iopub.status.busy": "2023-03-02T21:55:27.130670Z",
     "iopub.status.idle": "2023-03-02T21:55:27.145031Z",
     "shell.execute_reply": "2023-03-02T21:55:27.143127Z",
     "shell.execute_reply.started": "2023-03-02T21:55:27.131338Z"
    },
    "executionInfo": {
     "elapsed": 303,
     "status": "ok",
     "timestamp": 1675263025038,
     "user": {
      "displayName": "Donatella Taurasi",
      "userId": "00673418551725000492"
     },
     "user_tz": -60
    },
    "id": "7P9--_uaQJB8",
    "outputId": "0efe7d8c-7968-43a6-9312-5c8ae391f5d2"
   },
   "outputs": [
    {
     "name": "stdout",
     "output_type": "stream",
     "text": [
      "Training set indices:\n",
      "[ 0  1  5  7  8  9 11 12 13 15 16 18 27 28 29]\n",
      "Test set indices:\n",
      "[ 2  3  4  6 10 14 17 19 20 21 22 23 24 25 26]\n"
     ]
    }
   ],
   "source": [
    "train_indices, test_indices = sklearn.model_selection.train_test_split(\n",
    "    all_indices, test_size=0.5, shuffle=True, random_state=1)\n",
    "train_indices = np.sort(train_indices)\n",
    "test_indices = np.sort(test_indices)\n",
    "print('Training set indices:')\n",
    "print(train_indices)\n",
    "# print(np.sort(train))\n",
    "print('Test set indices:')\n",
    "print(test_indices)"
   ]
  },
  {
   "cell_type": "code",
   "execution_count": 25,
   "metadata": {
    "colab": {
     "base_uri": "https://localhost:8080/"
    },
    "execution": {
     "iopub.execute_input": "2023-03-02T21:55:27.148507Z",
     "iopub.status.busy": "2023-03-02T21:55:27.147694Z",
     "iopub.status.idle": "2023-03-02T21:55:27.158376Z",
     "shell.execute_reply": "2023-03-02T21:55:27.157083Z",
     "shell.execute_reply.started": "2023-03-02T21:55:27.148450Z"
    },
    "executionInfo": {
     "elapsed": 253,
     "status": "ok",
     "timestamp": 1675263057838,
     "user": {
      "displayName": "Donatella Taurasi",
      "userId": "00673418551725000492"
     },
     "user_tz": -60
    },
    "id": "CVRovxxPVUGw",
    "outputId": "285a913b-6d67-4cdd-fae8-0b003454b8b6"
   },
   "outputs": [
    {
     "name": "stdout",
     "output_type": "stream",
     "text": [
      "x = \n",
      "[0.23960803 2.44894501 1.37660499 2.27168066 3.07088707 1.69087703\n",
      " 1.57351826 0.22624056 0.8428984  1.56963105 2.13278219 2.52374057\n",
      " 1.19615516 0.20704013 0.90477718 2.85612368 0.67003001 1.41966924\n",
      " 2.9239869  0.07818357 1.8857236  2.98340663 0.72315104 1.72225835\n",
      " 2.8546631  0.41815206 1.6435155  2.35628696 2.10070158 1.46874398]\n",
      "x_train = \n",
      "[0.23960803 2.44894501 1.69087703 0.22624056 0.8428984  1.56963105\n",
      " 2.52374057 1.19615516 0.20704013 2.85612368 0.67003001 2.9239869\n",
      " 2.35628696 2.10070158 1.46874398]\n"
     ]
    }
   ],
   "source": [
    "x_train = x[train_indices]\n",
    "y_train = y[train_indices]\n",
    "x_test  = x[test_indices]\n",
    "y_test  = y[test_indices]\n",
    "\n",
    "print('x = ')\n",
    "print(x)\n",
    "print('x_train = ')\n",
    "print(x_train)"
   ]
  },
  {
   "cell_type": "markdown",
   "metadata": {
    "id": "SWsSM-zSZyFm"
   },
   "source": [
    "Let's visualize the split by plotting the training and the testing data in different colors."
   ]
  },
  {
   "cell_type": "code",
   "execution_count": 26,
   "metadata": {
    "colab": {
     "base_uri": "https://localhost:8080/",
     "height": 265
    },
    "execution": {
     "iopub.execute_input": "2023-03-02T21:55:27.161006Z",
     "iopub.status.busy": "2023-03-02T21:55:27.160525Z",
     "iopub.status.idle": "2023-03-02T21:55:27.483241Z",
     "shell.execute_reply": "2023-03-02T21:55:27.482066Z",
     "shell.execute_reply.started": "2023-03-02T21:55:27.160973Z"
    },
    "executionInfo": {
     "elapsed": 268,
     "status": "ok",
     "timestamp": 1675263099888,
     "user": {
      "displayName": "Donatella Taurasi",
      "userId": "00673418551725000492"
     },
     "user_tz": -60
    },
    "id": "yQ0UbjW2SUD3",
    "outputId": "6b9b73b0-c445-4ac4-ce05-d6c3f171a1fb"
   },
   "outputs": [
    {
     "data": {
      "image/png": "[encoded data removed]",
      "text/plain": [
       "<Figure size 432x288 with 1 Axes>"
      ]
     },
     "metadata": {
      "needs_background": "light"
     },
     "output_type": "display_data"
    }
   ],
   "source": [
    "plt.scatter(x_train, y_train, label='Train', c='b')\n",
    "plt.scatter(x_test, y_test, label='Test', c='r')\n",
    "plt.legend()\n",
    "plt.show()"
   ]
  },
  {
   "cell_type": "markdown",
   "metadata": {
    "id": "x7GGbGDaZ-o0"
   },
   "source": [
    "## Linear fit\n",
    "\n",
    "Now let's compute a linear (``deg=1``) fit on the training data, and look at its plot."
   ]
  },
  {
   "cell_type": "code",
   "execution_count": 27,
   "metadata": {
    "colab": {
     "base_uri": "https://localhost:8080/",
     "height": 265
    },
    "execution": {
     "iopub.execute_input": "2023-03-02T21:55:27.487489Z",
     "iopub.status.busy": "2023-03-02T21:55:27.486515Z",
     "iopub.status.idle": "2023-03-02T21:55:27.807937Z",
     "shell.execute_reply": "2023-03-02T21:55:27.807051Z",
     "shell.execute_reply.started": "2023-03-02T21:55:27.487418Z"
    },
    "executionInfo": {
     "elapsed": 707,
     "status": "ok",
     "timestamp": 1675263149188,
     "user": {
      "displayName": "Donatella Taurasi",
      "userId": "00673418551725000492"
     },
     "user_tz": -60
    },
    "id": "rgewKKK4Sqwd",
    "outputId": "83552532-b7f3-4d74-83fb-935aee6b2d4d"
   },
   "outputs": [
    {
     "data": {
      "image/png": "[encoded data removed]",
      "text/plain": [
       "<Figure size 432x288 with 1 Axes>"
      ]
     },
     "metadata": {
      "needs_background": "light"
     },
     "output_type": "display_data"
    }
   ],
   "source": [
    "# Compute our linear fit \n",
    "linear_fit = np.poly1d(np.polyfit(x_train, y_train, deg=1))\n",
    "# Plot the fit\n",
    "plt.scatter(x_train, y_train, label='Train', c='b')\n",
    "plt.scatter(x_test,  y_test,  label='Test', c='r')\n",
    "plt.plot(x_line, np.polyval(linear_fit, x_line), label='Linear Fit', c='b')\n",
    "plt.legend()\n",
    "plt.show()"
   ]
  },
  {
   "cell_type": "markdown",
   "metadata": {
    "id": "djn4uBS2aWbE"
   },
   "source": [
    "Let's compute the RMSE for this model on the training data and the testing data."
   ]
  },
  {
   "cell_type": "code",
   "execution_count": 28,
   "metadata": {
    "colab": {
     "base_uri": "https://localhost:8080/"
    },
    "execution": {
     "iopub.execute_input": "2023-03-02T21:55:27.809830Z",
     "iopub.status.busy": "2023-03-02T21:55:27.809408Z",
     "iopub.status.idle": "2023-03-02T21:55:27.818105Z",
     "shell.execute_reply": "2023-03-02T21:55:27.816231Z",
     "shell.execute_reply.started": "2023-03-02T21:55:27.809799Z"
    },
    "executionInfo": {
     "elapsed": 279,
     "status": "ok",
     "timestamp": 1675263182580,
     "user": {
      "displayName": "Donatella Taurasi",
      "userId": "00673418551725000492"
     },
     "user_tz": -60
    },
    "id": "IXguD7oNVaYF",
    "outputId": "7a8d887c-e63d-4f35-a1ca-6edad056a27b"
   },
   "outputs": [
    {
     "name": "stdout",
     "output_type": "stream",
     "text": [
      "RMSE training data = 0.29929245191492204\n",
      "RMSE testing data = 0.3588611055526206\n"
     ]
    }
   ],
   "source": [
    "train_residual = y_train - np.polyval(linear_fit, x_train)\n",
    "train_rmse = np.sqrt(np.mean(np.square(train_residual)))\n",
    "print(\"RMSE training data = \" + str(train_rmse))\n",
    "test_residual = y_test - np.polyval(linear_fit, x_test)\n",
    "test_rmse = np.sqrt(np.mean(np.square(test_residual)))\n",
    "print(\"RMSE testing data = \" + str(test_rmse))"
   ]
  },
  {
   "cell_type": "markdown",
   "metadata": {
    "id": "rP-4wrLUDlal"
   },
   "source": [
    "## Creating a function\n",
    "\n",
    "As before, we're going to take a look at how this performs for many different polynomial degrees. Let's create a function to do the repetetive work for us."
   ]
  },
  {
   "cell_type": "code",
   "execution_count": 29,
   "metadata": {
    "execution": {
     "iopub.execute_input": "2023-03-02T21:55:27.822102Z",
     "iopub.status.busy": "2023-03-02T21:55:27.820960Z",
     "iopub.status.idle": "2023-03-02T21:55:27.831532Z",
     "shell.execute_reply": "2023-03-02T21:55:27.830523Z",
     "shell.execute_reply.started": "2023-03-02T21:55:27.822023Z"
    },
    "executionInfo": {
     "elapsed": 213,
     "status": "ok",
     "timestamp": 1675263274648,
     "user": {
      "displayName": "Donatella Taurasi",
      "userId": "00673418551725000492"
     },
     "user_tz": -60
    },
    "id": "Z45bq7HnD25U"
   },
   "outputs": [],
   "source": [
    "def FitPolynomailToTrainTestSplit(P):\n",
    "  # Compute our polynomial fit\n",
    "  degree_P_fit = np.poly1d(np.polyfit(x_train, y_train, deg=P))\n",
    "  \n",
    "  # Plot the fit\n",
    "  plt.scatter(x_train, y_train, label='Train', c='b')\n",
    "  plt.scatter(x_test, y_test, label='Test', c='r')\n",
    "  plt.plot(x_line, np.polyval(degree_P_fit, x_line),\n",
    "           label='Degree ' + str(P) + ' Fit', c='b')\n",
    "  plt.legend()\n",
    "  plt.show()\n",
    "  \n",
    "  # Compute and print the RMSE\n",
    "  train_residual = y_train - np.polyval(degree_P_fit, x_train)\n",
    "  train_rmse = np.sqrt(np.mean(np.square(train_residual)))\n",
    "  print(\"RMSE training data = \" + str(train_rmse))\n",
    "  test_residual = y_test - np.polyval(degree_P_fit, x_test)\n",
    "  test_rmse = np.sqrt(np.mean(np.square(test_residual)))\n",
    "  print(\"RMSE testing data = \" + str(test_rmse))"
   ]
  },
  {
   "cell_type": "markdown",
   "metadata": {
    "id": "ce7szo3val3J"
   },
   "source": [
    "## Quadratic fit\n",
    "\n",
    "Let's run the same code as before, now with ``deg=2``."
   ]
  },
  {
   "cell_type": "code",
   "execution_count": 30,
   "metadata": {
    "colab": {
     "base_uri": "https://localhost:8080/",
     "height": 300
    },
    "execution": {
     "iopub.execute_input": "2023-03-02T21:55:27.833840Z",
     "iopub.status.busy": "2023-03-02T21:55:27.833264Z",
     "iopub.status.idle": "2023-03-02T21:55:28.128646Z",
     "shell.execute_reply": "2023-03-02T21:55:28.127613Z",
     "shell.execute_reply.started": "2023-03-02T21:55:27.833788Z"
    },
    "executionInfo": {
     "elapsed": 274,
     "status": "ok",
     "timestamp": 1675263284809,
     "user": {
      "displayName": "Donatella Taurasi",
      "userId": "00673418551725000492"
     },
     "user_tz": -60
    },
    "id": "lKVuUNE5X5Wf",
    "outputId": "52f941f1-b59a-4663-97c4-1a67d7288cd0"
   },
   "outputs": [
    {
     "data": {
      "image/png": "[encoded data removed]",
      "text/plain": [
       "<Figure size 432x288 with 1 Axes>"
      ]
     },
     "metadata": {
      "needs_background": "light"
     },
     "output_type": "display_data"
    },
    {
     "name": "stdout",
     "output_type": "stream",
     "text": [
      "RMSE training data = 0.08512286557897725\n",
      "RMSE testing data = 0.14229223479655428\n"
     ]
    }
   ],
   "source": [
    "FitPolynomailToTrainTestSplit(2)"
   ]
  },
  {
   "cell_type": "markdown",
   "metadata": {
    "id": "mNjGP2S1bgKs"
   },
   "source": [
    "Indeed the RMSE is going down like before, for both the training and testing sets."
   ]
  },
  {
   "cell_type": "markdown",
   "metadata": {
    "id": "W3ulpnKaUCAM"
   },
   "source": [
    "## Coding Dojo: Run the 6th polynomial fit! "
   ]
  },
  {
   "cell_type": "code",
   "execution_count": 189,
   "metadata": {
    "colab": {
     "base_uri": "https://localhost:8080/",
     "height": 300
    },
    "execution": {
     "iopub.execute_input": "2023-03-03T01:13:52.754397Z",
     "iopub.status.busy": "2023-03-03T01:13:52.746444Z",
     "iopub.status.idle": "2023-03-03T01:13:53.156644Z",
     "shell.execute_reply": "2023-03-03T01:13:53.155395Z",
     "shell.execute_reply.started": "2023-03-03T01:13:52.754306Z"
    },
    "executionInfo": {
     "elapsed": 274,
     "status": "ok",
     "timestamp": 1675263284809,
     "user": {
      "displayName": "Donatella Taurasi",
      "userId": "00673418551725000492"
     },
     "user_tz": -60
    },
    "id": "lKVuUNE5X5Wf",
    "outputId": "52f941f1-b59a-4663-97c4-1a67d7288cd0",
    "tags": []
   },
   "outputs": [
    {
     "data": {
      "image/png": "[encoded data removed]",
      "text/plain": [
       "<Figure size 432x288 with 1 Axes>"
      ]
     },
     "metadata": {
      "needs_background": "light"
     },
     "output_type": "display_data"
    },
    {
     "name": "stdout",
     "output_type": "stream",
     "text": [
      "RMSE training data = 0.07651438728280525\n",
      "RMSE testing data = 0.13357292148560557\n"
     ]
    }
   ],
   "source": [
    "FitPolynomailToTrainTestSplit(6)"
   ]
  },
  {
   "cell_type": "markdown",
   "metadata": {
    "id": "EKD5xflYbWyS"
   },
   "source": [
    "## 8th degree fit\n",
    "\n",
    "Let's do the same thing, now with a 8th degree polynomial."
   ]
  },
  {
   "cell_type": "code",
   "execution_count": 31,
   "metadata": {
    "colab": {
     "base_uri": "https://localhost:8080/",
     "height": 300
    },
    "execution": {
     "iopub.execute_input": "2023-03-02T21:55:28.130539Z",
     "iopub.status.busy": "2023-03-02T21:55:28.130114Z",
     "iopub.status.idle": "2023-03-02T21:55:28.487550Z",
     "shell.execute_reply": "2023-03-02T21:55:28.486289Z",
     "shell.execute_reply.started": "2023-03-02T21:55:28.130511Z"
    },
    "executionInfo": {
     "elapsed": 243,
     "status": "ok",
     "timestamp": 1675263336031,
     "user": {
      "displayName": "Donatella Taurasi",
      "userId": "00673418551725000492"
     },
     "user_tz": -60
    },
    "id": "Ht68napdbxbd",
    "outputId": "29c94ef3-63a8-4c33-eaa4-8283b74b7271"
   },
   "outputs": [
    {
     "data": {
      "image/png": "[encoded data removed]",
      "text/plain": [
       "<Figure size 432x288 with 1 Axes>"
      ]
     },
     "metadata": {
      "needs_background": "light"
     },
     "output_type": "display_data"
    },
    {
     "name": "stdout",
     "output_type": "stream",
     "text": [
      "RMSE training data = 0.06292940620775891\n",
      "RMSE testing data = 0.4846389902048209\n"
     ]
    }
   ],
   "source": [
    "FitPolynomailToTrainTestSplit(8)"
   ]
  },
  {
   "cell_type": "markdown",
   "metadata": {
    "id": "9ABBI7QuciUr"
   },
   "source": [
    "Something interesting has happened here! Our training data's error is going down, but our testing data has spiked up!\n",
    "\n",
    "And if we look at our plot, the line fits the blue dots well, but is missing the red dots by a lot!"
   ]
  },
  {
   "cell_type": "markdown",
   "metadata": {
    "id": "GCAMHwTlcwoC"
   },
   "source": [
    "## Finding the Best Hyperparameter (again!)\n",
    "\n",
    "We want to know the relationship between RMSE on the *test* set versus the polynomial degree.\n",
    "\n",
    "Let's plot that for all polynomial degrees from 0 to 13 (along with the RMSE for the training error)."
   ]
  },
  {
   "cell_type": "code",
   "execution_count": 32,
   "metadata": {
    "colab": {
     "base_uri": "https://localhost:8080/",
     "height": 283
    },
    "execution": {
     "iopub.execute_input": "2023-03-02T21:55:28.490004Z",
     "iopub.status.busy": "2023-03-02T21:55:28.489524Z",
     "iopub.status.idle": "2023-03-02T21:55:28.734937Z",
     "shell.execute_reply": "2023-03-02T21:55:28.733610Z",
     "shell.execute_reply.started": "2023-03-02T21:55:28.489973Z"
    },
    "executionInfo": {
     "elapsed": 257,
     "status": "ok",
     "timestamp": 1675263481834,
     "user": {
      "displayName": "Donatella Taurasi",
      "userId": "00673418551725000492"
     },
     "user_tz": -60
    },
    "id": "mlUyII6nb1fI",
    "outputId": "1e8ee16b-8bf7-4a42-eab9-9371b6012f8d"
   },
   "outputs": [
    {
     "data": {
      "image/png": "[encoded data removed]",
      "text/plain": [
       "<Figure size 432x288 with 1 Axes>"
      ]
     },
     "metadata": {
      "needs_background": "light"
     },
     "output_type": "display_data"
    }
   ],
   "source": [
    "# This is going to be our X data. Like last time, it's the degrees we'll test,\n",
    "# this time 0 through 12.\n",
    "degrees = np.arange(13)\n",
    "\n",
    "# This is going to be our Y data. We have two plots now, the RMSE for training\n",
    "# data and RMSE for test data.\n",
    "train_rmse_for_degree = np.zeros(len(degrees))\n",
    "test_rmse_for_degree = np.zeros(len(degrees))\n",
    "\n",
    "# And for each degree, let's compute the RMSE\n",
    "for P in degrees:\n",
    "  # Compute our fit\n",
    "  degree_P_fit = np.poly1d(np.polyfit(x_train, y_train, deg=P))\n",
    "\n",
    "  # Compute our residual and RMSE for training and testing\n",
    "  train_residual = y_train - np.polyval(degree_P_fit, x_train)\n",
    "  train_rmse = np.sqrt(np.mean(np.square(train_residual)))\n",
    "  test_residual = y_test - np.polyval(degree_P_fit, x_test)\n",
    "  test_rmse = np.sqrt(np.mean(np.square(test_residual)))\n",
    "  \n",
    "  # Save the RMSE in our Y axis data\n",
    "  train_rmse_for_degree[P] = train_rmse\n",
    "  test_rmse_for_degree[P] = test_rmse\n",
    "\n",
    "  # And let's plot the results.\n",
    "plt.plot(degrees, train_rmse_for_degree, c='b', label='Train')\n",
    "plt.plot(degrees, test_rmse_for_degree, c='r', label='Test')\n",
    "plt.xlabel('Polynomial degree')\n",
    "plt.ylabel('RMSE')\n",
    "plt.ylim([0, 1])\n",
    "plt.legend()\n",
    "plt.show()"
   ]
  },
  {
   "cell_type": "markdown",
   "metadata": {
    "id": "dVaai6-OdwdA"
   },
   "source": [
    "This gives us a clearer picture of what range of hyperparameters may be best for this data."
   ]
  },
  {
   "cell_type": "markdown",
   "metadata": {
    "id": "PVn-akRgjznn"
   },
   "source": [
    "# k-Fold Cross-Validation\n",
    "\n",
    "In the above example, we dividied our data at random into 2 sets -- one for training and one for testing. Now we know that the correct way to approach model evalutation is to include a \"validation\" set as well. \n",
    "\n",
    "Let's see how that is done in the context of cross validation.\n",
    "\n",
    "For cross-validation, the training data is divided into folds, each of which is treated as its own validation data set, using all of the other training data as its training data set.\n",
    "\n",
    "We can use the [``sklearn.model_selection.KFold``](https://scikit-learn.org/stable/modules/generated/sklearn.model_selection.KFold.html) function to generate mutliple training and validation sets.\n",
    "\n",
    "In this example, let's do 4-Fold Cross-Validation"
   ]
  },
  {
   "cell_type": "markdown",
   "metadata": {
    "id": "6fNJYciOsST0"
   },
   "source": [
    "## Visualizing the split\n",
    "\n",
    "Let's print out the 4 different sets of test and training indices that we'll use. For each fold, the training indices are everything not being used for validation."
   ]
  },
  {
   "cell_type": "code",
   "execution_count": 190,
   "metadata": {
    "colab": {
     "base_uri": "https://localhost:8080/",
     "height": 612
    },
    "execution": {
     "iopub.execute_input": "2023-03-03T01:27:35.479811Z",
     "iopub.status.busy": "2023-03-03T01:27:35.476072Z",
     "iopub.status.idle": "2023-03-03T01:27:35.956759Z",
     "shell.execute_reply": "2023-03-03T01:27:35.954702Z",
     "shell.execute_reply.started": "2023-03-03T01:27:35.479719Z"
    },
    "executionInfo": {
     "elapsed": 242,
     "status": "ok",
     "timestamp": 1675263809631,
     "user": {
      "displayName": "Donatella Taurasi",
      "userId": "00673418551725000492"
     },
     "user_tz": -60
    },
    "id": "4A3fqUbaqjzv",
    "outputId": "b82efb44-decb-4181-b3a4-930496a371ff",
    "tags": []
   },
   "outputs": [
    {
     "name": "stdout",
     "output_type": "stream",
     "text": [
      "Fold 0 training indices: \n",
      "[ 0  1  3  4  6  7  9 11 12 13 14]\n",
      "Fold 0 validation indices: \n",
      "[ 2  5  8 10]\n",
      "\n",
      "Fold 1 training indices: \n",
      "[ 2  3  4  5  6  7  8  9 10 11 13]\n",
      "Fold 1 validation indices: \n",
      "[ 0  1 12 14]\n",
      "\n",
      "Fold 2 training indices: \n",
      "[ 0  1  2  4  5  6  8  9 10 12 14]\n",
      "Fold 2 validation indices: \n",
      "[ 3  7 11 13]\n",
      "\n",
      "Fold 3 training indices: \n",
      "[ 0  1  2  3  5  7  8 10 11 12 13 14]\n",
      "Fold 3 validation indices: \n",
      "[4 6 9]\n",
      "\n"
     ]
    },
    {
     "data": {
      "image/png": "[encoded data removed]",
      "text/plain": [
       "<Figure size 432x288 with 1 Axes>"
      ]
     },
     "metadata": {
      "needs_background": "light"
     },
     "output_type": "display_data"
    }
   ],
   "source": [
    "# kf_xval is what we will use to iterate over our splits\n",
    "n_folds =4\n",
    "kf_xval = sklearn.model_selection.KFold(n_splits=n_folds, shuffle=True, random_state=7)\n",
    "\n",
    "# We'll want to label each fold as 0, 1, 2, 3 on the graph and when we print\n",
    "# the data. We'll use the fold_index variable for that.\n",
    "fold_number = 0\n",
    "for fold_train_indices, fold_valid_indices in kf_xval.split(x_train):\n",
    "  # fold_train_indices, fold_valid_indices are the indices from 0 through 15\n",
    "  # (the size of x_train). Print them.\n",
    "  print('Fold ' + str(fold_number) + ' training indices: ')\n",
    "  print(fold_train_indices)\n",
    "  print('Fold ' + str(fold_number) + ' validation indices: ')\n",
    "  print(fold_valid_indices)\n",
    "  print('')\n",
    "\n",
    "  # Use them to sub-divide x_train and y_train into the training and validation\n",
    "  # sets for this fold.\n",
    "  x_fold_train = x_train[fold_train_indices]\n",
    "  y_fold_train = y_train[fold_train_indices]\n",
    "  x_fold_valid = x_train[fold_valid_indices]\n",
    "  y_fold_valid = y_train[fold_valid_indices]\n",
    "\n",
    "  # Plot the fold's valiation data points\n",
    "  plt.scatter(x_fold_valid, y_fold_valid, label='Fold ' + str(fold_number))\n",
    "  \n",
    "  # Increment our fold index.\n",
    "  fold_number += 1\n",
    "\n",
    "# Show the plot\n",
    "plt.legend()\n",
    "plt.show()"
   ]
  },
  {
   "cell_type": "markdown",
   "metadata": {
    "id": "TegLJl9bsjWI"
   },
   "source": [
    "## Finding the best Hyperparameter (again again!)\n",
    "\n",
    "In the code below, we try all of our different degree fits on the above sets, and we plot the resulting error for each.\n",
    "\n",
    "Our X axis is polynomial degree. On the Y axis we'll have the mean training fit and the mean validation fit."
   ]
  },
  {
   "cell_type": "code",
   "execution_count": 191,
   "metadata": {
    "colab": {
     "base_uri": "https://localhost:8080/",
     "height": 283
    },
    "execution": {
     "iopub.execute_input": "2023-03-03T01:27:44.873922Z",
     "iopub.status.busy": "2023-03-03T01:27:44.873276Z",
     "iopub.status.idle": "2023-03-03T01:27:45.168935Z",
     "shell.execute_reply": "2023-03-03T01:27:45.167975Z",
     "shell.execute_reply.started": "2023-03-03T01:27:44.873888Z"
    },
    "executionInfo": {
     "elapsed": 284,
     "status": "ok",
     "timestamp": 1675263976634,
     "user": {
      "displayName": "Donatella Taurasi",
      "userId": "00673418551725000492"
     },
     "user_tz": -60
    },
    "id": "Vx5u0KnWdaD3",
    "outputId": "da67b95f-fd18-4384-9171-d8912ef63bd2",
    "tags": []
   },
   "outputs": [
    {
     "data": {
      "image/png": "[encoded data removed]",
      "text/plain": [
       "<Figure size 432x288 with 1 Axes>"
      ]
     },
     "metadata": {
      "needs_background": "light"
     },
     "output_type": "display_data"
    }
   ],
   "source": [
    "# This is going to be our X data. Like last time, it's the degrees we'll test.\n",
    "degrees = np.arange(11)\n",
    "\n",
    "# This is going to be our Y data. We have two plots now, the RMSE for training\n",
    "# data and RMSE for test data. Because we need to take the mean of the RMSE for\n",
    "# all folds, we'll create a matrix with entries for each degree and each fold.\n",
    "train_rmse_for_degree = np.zeros([len(degrees), n_folds])\n",
    "valid_rmse_for_degree = np.zeros([len(degrees), n_folds])\n",
    "\n",
    "# We'll use fold_number to keep track of which fold we're on, so we know which\n",
    "# entry to save it in.\n",
    "fold_number = 0\n",
    "\n",
    "# Iterate over every training/validation split\n",
    "for fold_train_indices, fold_valid_indices in kf_xval.split(x_train):\n",
    "  # fold_train_indices and fold_valid_indices are the indices. Use them to\n",
    "  # sub-divide x_train and y_train into the training and validation sets for\n",
    "  # this fold.\n",
    "  x_fold_train = x_train[fold_train_indices]\n",
    "  y_fold_train = y_train[fold_train_indices]\n",
    "  x_fold_valid = x_train[fold_valid_indices]\n",
    "  y_fold_valid = y_train[fold_valid_indices]\n",
    "\n",
    "  # Iterate over every polynomial degree P (this is now exactly like before)\n",
    "  for P in degrees:\n",
    "    # Fit the degree P polynomial using the fold's training data\n",
    "    degree_P_fit = np.poly1d(np.polyfit(x_fold_train, y_fold_train, deg=P))\n",
    "\n",
    "    # Compute the residual and RMSE for training and validation\n",
    "    train_residual = y_fold_train - np.polyval(degree_P_fit, x_fold_train)\n",
    "    valid_residual = y_fold_valid - np.polyval(degree_P_fit, x_fold_valid)\n",
    "    train_rmse = np.sqrt(np.mean(np.square(train_residual)))\n",
    "    valid_rmse = np.sqrt(np.mean(np.square(valid_residual)))\n",
    "    \n",
    "    # Save the RMSE\n",
    "    train_rmse_for_degree[P, fold_number] = train_rmse\n",
    "    valid_rmse_for_degree[P, fold_number] = valid_rmse\n",
    "\n",
    "  # Increment the index for the fold we're on.\n",
    "  fold_number += 1\n",
    "\n",
    "# Now let's get the mean training and validation RMSE across all folds\n",
    "mean_train_rmse_for_degree = np.mean(train_rmse_for_degree,1)\n",
    "mean_valid_rmse_for_degree = np.mean(valid_rmse_for_degree,1)\n",
    "\n",
    "# print('Training RMSE matrix. Folds are horizontal, degree is vertical')\n",
    "# print(train_rmse_for_degree)\n",
    "# print('Mean training RMSE for each degree.')\n",
    "# print(mean_train_rmse_for_degree)\n",
    "  \n",
    "# And let's plot them!\n",
    "plt.plot(degrees, mean_train_rmse_for_degree, label='Mean Training RMSE')\n",
    "plt.plot(degrees, mean_valid_rmse_for_degree, label='Mean Validation RMSE')\n",
    "plt.xlabel('Polynomial degree')\n",
    "plt.ylabel('RMSE')\n",
    "plt.ylim([0, 0.5])\n",
    "plt.legend()\n",
    "plt.show()"
   ]
  },
  {
   "cell_type": "markdown",
   "metadata": {
    "id": "NcZeDBFpQeo7"
   },
   "source": [
    "## Evaluating the model on the test data\n",
    "\n",
    "From the above plot, a degree $P=2$ fit is the best hyperparameter selection. Let's now train our model on all training data using that hyperparameter, and evaluate it on the test set.\n",
    "\n"
   ]
  },
  {
   "cell_type": "code",
   "execution_count": 192,
   "metadata": {
    "colab": {
     "base_uri": "https://localhost:8080/"
    },
    "execution": {
     "iopub.execute_input": "2023-03-03T01:27:51.837338Z",
     "iopub.status.busy": "2023-03-03T01:27:51.836944Z",
     "iopub.status.idle": "2023-03-03T01:27:51.847621Z",
     "shell.execute_reply": "2023-03-03T01:27:51.846786Z",
     "shell.execute_reply.started": "2023-03-03T01:27:51.837309Z"
    },
    "executionInfo": {
     "elapsed": 244,
     "status": "ok",
     "timestamp": 1675264126380,
     "user": {
      "displayName": "Donatella Taurasi",
      "userId": "00673418551725000492"
     },
     "user_tz": -60
    },
    "id": "2ARLN-peQx_2",
    "outputId": "524f807c-8722-48f4-9ec5-c66c3e619ab5",
    "tags": []
   },
   "outputs": [
    {
     "name": "stdout",
     "output_type": "stream",
     "text": [
      "P=2 Test RMSE = 0.14229223479655428\n"
     ]
    }
   ],
   "source": [
    "best_P = 2\n",
    "best_P_fit = np.poly1d(np.polyfit(x_train, y_train, deg=best_P))\n",
    "\n",
    "best_P_test_residual = y_test - np.polyval(best_P_fit, x_test)\n",
    "best_P_test_rmse = np.sqrt(np.mean(np.square(best_P_test_residual)))\n",
    "\n",
    "print('P=2 Test RMSE = ' + str(best_P_test_rmse))"
   ]
  },
  {
   "cell_type": "code",
   "execution_count": 193,
   "metadata": {
    "colab": {
     "base_uri": "https://localhost:8080/",
     "height": 283
    },
    "execution": {
     "iopub.execute_input": "2023-03-03T01:27:52.364546Z",
     "iopub.status.busy": "2023-03-03T01:27:52.364100Z",
     "iopub.status.idle": "2023-03-03T01:27:52.628177Z",
     "shell.execute_reply": "2023-03-03T01:27:52.627296Z",
     "shell.execute_reply.started": "2023-03-03T01:27:52.364508Z"
    },
    "executionInfo": {
     "elapsed": 300,
     "status": "ok",
     "timestamp": 1675264131799,
     "user": {
      "displayName": "Donatella Taurasi",
      "userId": "00673418551725000492"
     },
     "user_tz": -60
    },
    "id": "aDZCrLJdROdh",
    "outputId": "5a82fd7f-acaa-498b-87b1-ce5b777f9435",
    "tags": []
   },
   "outputs": [
    {
     "data": {
      "image/png": "[encoded data removed]",
      "text/plain": [
       "<Figure size 432x288 with 1 Axes>"
      ]
     },
     "metadata": {
      "needs_background": "light"
     },
     "output_type": "display_data"
    }
   ],
   "source": [
    "# And let's everything together!\n",
    "plt.plot(degrees, mean_train_rmse_for_degree, label='Mean Training RMSE')\n",
    "plt.plot(degrees, mean_valid_rmse_for_degree, label='Mean Validation RMSE')\n",
    "plt.scatter([best_P], [best_P_test_rmse], label='Test RMSE', c='r')\n",
    "plt.xlabel('Polynomial degree')\n",
    "plt.ylabel('RMSE')\n",
    "plt.ylim([0, 0.5])\n",
    "plt.legend()\n",
    "plt.show()"
   ]
  },
  {
   "cell_type": "markdown",
   "metadata": {
    "id": "hFqV286s_DOa"
   },
   "source": [
    "# Coding Dojo: Leave-one-out cross validation\n",
    "\n",
    "Try modifying the $k-$fold cross validation example above to use a [``LeaveOneOut``](https://scikit-learn.org/stable/modules/generated/sklearn.model_selection.LeaveOneOut.html) cross-validator instead."
   ]
  },
  {
   "cell_type": "code",
   "execution_count": 194,
   "metadata": {
    "execution": {
     "iopub.execute_input": "2023-03-03T01:28:58.564644Z",
     "iopub.status.busy": "2023-03-03T01:28:58.564224Z",
     "iopub.status.idle": "2023-03-03T01:28:58.572327Z",
     "shell.execute_reply": "2023-03-03T01:28:58.571223Z",
     "shell.execute_reply.started": "2023-03-03T01:28:58.564609Z"
    },
    "id": "tTj6395x_GKH",
    "tags": []
   },
   "outputs": [],
   "source": [
    "# We used kf_xval before. Let's use xf_loocv\n",
    "loo_xval = sklearn.model_selection.LeaveOneOut()\n",
    "\n",
    "# the number of folds we'll have now is the length of the training data.\n",
    "n_folds = len(x_train)\n",
    "\n",
    "# Copy-paste what we did for k-fold cross validation here, now using loo_xval\n",
    "# instead of kf_xval. How does it compare?"
   ]
  },
  {
   "cell_type": "markdown",
   "metadata": {
    "id": "6fNJYciOsST0"
   },
   "source": [
    "## Visualizing the split\n",
    "\n",
    "Let's print out the 4 different sets of test and training indices that we'll use. For each fold, the training indices are everything not being used for validation."
   ]
  },
  {
   "cell_type": "code",
   "execution_count": 197,
   "metadata": {
    "colab": {
     "base_uri": "https://localhost:8080/",
     "height": 612
    },
    "execution": {
     "iopub.execute_input": "2023-03-03T01:31:28.228977Z",
     "iopub.status.busy": "2023-03-03T01:31:28.228557Z",
     "iopub.status.idle": "2023-03-03T01:31:28.884343Z",
     "shell.execute_reply": "2023-03-03T01:31:28.883350Z",
     "shell.execute_reply.started": "2023-03-03T01:31:28.228946Z"
    },
    "executionInfo": {
     "elapsed": 242,
     "status": "ok",
     "timestamp": 1675263809631,
     "user": {
      "displayName": "Donatella Taurasi",
      "userId": "00673418551725000492"
     },
     "user_tz": -60
    },
    "id": "4A3fqUbaqjzv",
    "outputId": "b82efb44-decb-4181-b3a4-930496a371ff",
    "tags": []
   },
   "outputs": [
    {
     "name": "stdout",
     "output_type": "stream",
     "text": [
      "Fold 0 training indices: \n",
      "[ 1  2  3  4  5  6  7  8  9 10 11 12 13 14]\n",
      "Fold 0 validation indices: \n",
      "[0]\n",
      "\n",
      "Fold 1 training indices: \n",
      "[ 0  2  3  4  5  6  7  8  9 10 11 12 13 14]\n",
      "Fold 1 validation indices: \n",
      "[1]\n",
      "\n",
      "Fold 2 training indices: \n",
      "[ 0  1  3  4  5  6  7  8  9 10 11 12 13 14]\n",
      "Fold 2 validation indices: \n",
      "[2]\n",
      "\n",
      "Fold 3 training indices: \n",
      "[ 0  1  2  4  5  6  7  8  9 10 11 12 13 14]\n",
      "Fold 3 validation indices: \n",
      "[3]\n",
      "\n",
      "Fold 4 training indices: \n",
      "[ 0  1  2  3  5  6  7  8  9 10 11 12 13 14]\n",
      "Fold 4 validation indices: \n",
      "[4]\n",
      "\n",
      "Fold 5 training indices: \n",
      "[ 0  1  2  3  4  6  7  8  9 10 11 12 13 14]\n",
      "Fold 5 validation indices: \n",
      "[5]\n",
      "\n",
      "Fold 6 training indices: \n",
      "[ 0  1  2  3  4  5  7  8  9 10 11 12 13 14]\n",
      "Fold 6 validation indices: \n",
      "[6]\n",
      "\n",
      "Fold 7 training indices: \n",
      "[ 0  1  2  3  4  5  6  8  9 10 11 12 13 14]\n",
      "Fold 7 validation indices: \n",
      "[7]\n",
      "\n",
      "Fold 8 training indices: \n",
      "[ 0  1  2  3  4  5  6  7  9 10 11 12 13 14]\n",
      "Fold 8 validation indices: \n",
      "[8]\n",
      "\n",
      "Fold 9 training indices: \n",
      "[ 0  1  2  3  4  5  6  7  8 10 11 12 13 14]\n",
      "Fold 9 validation indices: \n",
      "[9]\n",
      "\n",
      "Fold 10 training indices: \n",
      "[ 0  1  2  3  4  5  6  7  8  9 11 12 13 14]\n",
      "Fold 10 validation indices: \n",
      "[10]\n",
      "\n",
      "Fold 11 training indices: \n",
      "[ 0  1  2  3  4  5  6  7  8  9 10 12 13 14]\n",
      "Fold 11 validation indices: \n",
      "[11]\n",
      "\n",
      "Fold 12 training indices: \n",
      "[ 0  1  2  3  4  5  6  7  8  9 10 11 13 14]\n",
      "Fold 12 validation indices: \n",
      "[12]\n",
      "\n",
      "Fold 13 training indices: \n",
      "[ 0  1  2  3  4  5  6  7  8  9 10 11 12 14]\n",
      "Fold 13 validation indices: \n",
      "[13]\n",
      "\n",
      "Fold 14 training indices: \n",
      "[ 0  1  2  3  4  5  6  7  8  9 10 11 12 13]\n",
      "Fold 14 validation indices: \n",
      "[14]\n",
      "\n"
     ]
    },
    {
     "data": {
      "image/png": "[encoded data removed]",
      "text/plain": [
       "<Figure size 432x288 with 1 Axes>"
      ]
     },
     "metadata": {
      "needs_background": "light"
     },
     "output_type": "display_data"
    }
   ],
   "source": [
    "# n_folds =4\n",
    "n_folds = len(x_train)\n",
    "# kf_xval = sklearn.model_selection.KFold(n_splits=n_folds, shuffle=True, random_state=7)\n",
    "loo_xval = sklearn.model_selection.LeaveOneOut()\n",
    "\n",
    "# We'll want to label each fold as 0, 1, 2, 3 on the graph and when we print\n",
    "# the data. We'll use the fold_index variable for that.\n",
    "fold_number = 0\n",
    "for fold_train_indices, fold_valid_indices in loo_xval.split(x_train):\n",
    "  # fold_train_indices, fold_valid_indices are the indices from 0 through 15\n",
    "  # (the size of x_train). Print them.\n",
    "  print('Fold ' + str(fold_number) + ' training indices: ')\n",
    "  print(fold_train_indices)\n",
    "  print('Fold ' + str(fold_number) + ' validation indices: ')\n",
    "  print(fold_valid_indices)\n",
    "  print('')\n",
    "\n",
    "  # Use them to sub-divide x_train and y_train into the training and validation\n",
    "  # sets for this fold.\n",
    "  x_fold_train = x_train[fold_train_indices]\n",
    "  y_fold_train = y_train[fold_train_indices]\n",
    "  x_fold_valid = x_train[fold_valid_indices]\n",
    "  y_fold_valid = y_train[fold_valid_indices]\n",
    "\n",
    "  # Plot the fold's valiation data points\n",
    "  plt.scatter(x_fold_valid, y_fold_valid, label='Fold ' + str(fold_number))\n",
    "  \n",
    "  # Increment our fold index.\n",
    "  fold_number += 1\n",
    "\n",
    "# Show the plot\n",
    "plt.legend()\n",
    "plt.show()"
   ]
  },
  {
   "cell_type": "markdown",
   "metadata": {
    "id": "TegLJl9bsjWI"
   },
   "source": [
    "## Finding the best Hyperparameter (again again!)\n",
    "\n",
    "In the code below, we try all of our different degree fits on the above sets, and we plot the resulting error for each.\n",
    "\n",
    "Our X axis is polynomial degree. On the Y axis we'll have the mean training fit and the mean validation fit."
   ]
  },
  {
   "cell_type": "code",
   "execution_count": 198,
   "metadata": {
    "colab": {
     "base_uri": "https://localhost:8080/",
     "height": 283
    },
    "execution": {
     "iopub.execute_input": "2023-03-03T01:31:32.652980Z",
     "iopub.status.busy": "2023-03-03T01:31:32.652144Z",
     "iopub.status.idle": "2023-03-03T01:31:34.154032Z",
     "shell.execute_reply": "2023-03-03T01:31:34.153065Z",
     "shell.execute_reply.started": "2023-03-03T01:31:32.652944Z"
    },
    "executionInfo": {
     "elapsed": 284,
     "status": "ok",
     "timestamp": 1675263976634,
     "user": {
      "displayName": "Donatella Taurasi",
      "userId": "00673418551725000492"
     },
     "user_tz": -60
    },
    "id": "Vx5u0KnWdaD3",
    "outputId": "da67b95f-fd18-4384-9171-d8912ef63bd2",
    "tags": []
   },
   "outputs": [
    {
     "data": {
      "image/png": "[encoded data removed]",
      "text/plain": [
       "<Figure size 432x288 with 1 Axes>"
      ]
     },
     "metadata": {
      "needs_background": "light"
     },
     "output_type": "display_data"
    }
   ],
   "source": [
    "# This is going to be our X data. Like last time, it's the degrees we'll test.\n",
    "degrees = np.arange(11)\n",
    "\n",
    "# This is going to be our Y data. We have two plots now, the RMSE for training\n",
    "# data and RMSE for test data. Because we need to take the mean of the RMSE for\n",
    "# all folds, we'll create a matrix with entries for each degree and each fold.\n",
    "train_rmse_for_degree = np.zeros([len(degrees), n_folds])\n",
    "valid_rmse_for_degree = np.zeros([len(degrees), n_folds])\n",
    "\n",
    "# We'll use fold_number to keep track of which fold we're on, so we know which\n",
    "# entry to save it in.\n",
    "fold_number = 0\n",
    "\n",
    "# Iterate over every training/validation split\n",
    "for fold_train_indices, fold_valid_indices in kf_xval.split(x_train):\n",
    "  # fold_train_indices and fold_valid_indices are the indices. Use them to\n",
    "  # sub-divide x_train and y_train into the training and validation sets for\n",
    "  # this fold.\n",
    "  x_fold_train = x_train[fold_train_indices]\n",
    "  y_fold_train = y_train[fold_train_indices]\n",
    "  x_fold_valid = x_train[fold_valid_indices]\n",
    "  y_fold_valid = y_train[fold_valid_indices]\n",
    "\n",
    "  # Iterate over every polynomial degree P (this is now exactly like before)\n",
    "  for P in degrees:\n",
    "    # Fit the degree P polynomial using the fold's training data\n",
    "    degree_P_fit = np.poly1d(np.polyfit(x_fold_train, y_fold_train, deg=P))\n",
    "\n",
    "    # Compute the residual and RMSE for training and validation\n",
    "    train_residual = y_fold_train - np.polyval(degree_P_fit, x_fold_train)\n",
    "    valid_residual = y_fold_valid - np.polyval(degree_P_fit, x_fold_valid)\n",
    "    train_rmse = np.sqrt(np.mean(np.square(train_residual)))\n",
    "    valid_rmse = np.sqrt(np.mean(np.square(valid_residual)))\n",
    "    \n",
    "    # Save the RMSE\n",
    "    train_rmse_for_degree[P, fold_number] = train_rmse\n",
    "    valid_rmse_for_degree[P, fold_number] = valid_rmse\n",
    "\n",
    "  # Increment the index for the fold we're on.\n",
    "  fold_number += 1\n",
    "\n",
    "# Now let's get the mean training and validation RMSE across all folds\n",
    "mean_train_rmse_for_degree = np.mean(train_rmse_for_degree,1)\n",
    "mean_valid_rmse_for_degree = np.mean(valid_rmse_for_degree,1)\n",
    "\n",
    "# print('Training RMSE matrix. Folds are horizontal, degree is vertical')\n",
    "# print(train_rmse_for_degree)\n",
    "# print('Mean training RMSE for each degree.')\n",
    "# print(mean_train_rmse_for_degree)\n",
    "  \n",
    "# And let's plot them!\n",
    "plt.plot(degrees, mean_train_rmse_for_degree, label='Mean Training RMSE')\n",
    "plt.plot(degrees, mean_valid_rmse_for_degree, label='Mean Validation RMSE')\n",
    "plt.xlabel('Polynomial degree')\n",
    "plt.ylabel('RMSE')\n",
    "plt.ylim([0, 0.5])\n",
    "plt.legend()\n",
    "plt.show()"
   ]
  },
  {
   "cell_type": "markdown",
   "metadata": {
    "id": "NcZeDBFpQeo7"
   },
   "source": [
    "## Evaluating the model on the test data\n",
    "\n",
    "From the above plot, a degree $P=2$ fit is the best hyperparameter selection. Let's now train our model on all training data using that hyperparameter, and evaluate it on the test set.\n",
    "\n"
   ]
  },
  {
   "cell_type": "code",
   "execution_count": 199,
   "metadata": {
    "colab": {
     "base_uri": "https://localhost:8080/"
    },
    "execution": {
     "iopub.execute_input": "2023-03-03T01:31:38.082342Z",
     "iopub.status.busy": "2023-03-03T01:31:38.081771Z",
     "iopub.status.idle": "2023-03-03T01:31:38.092437Z",
     "shell.execute_reply": "2023-03-03T01:31:38.090762Z",
     "shell.execute_reply.started": "2023-03-03T01:31:38.082304Z"
    },
    "executionInfo": {
     "elapsed": 244,
     "status": "ok",
     "timestamp": 1675264126380,
     "user": {
      "displayName": "Donatella Taurasi",
      "userId": "00673418551725000492"
     },
     "user_tz": -60
    },
    "id": "2ARLN-peQx_2",
    "outputId": "524f807c-8722-48f4-9ec5-c66c3e619ab5",
    "tags": []
   },
   "outputs": [
    {
     "name": "stdout",
     "output_type": "stream",
     "text": [
      "P=2 Test RMSE = 0.14229223479655428\n"
     ]
    }
   ],
   "source": [
    "best_P = 2\n",
    "best_P_fit = np.poly1d(np.polyfit(x_train, y_train, deg=best_P))\n",
    "\n",
    "best_P_test_residual = y_test - np.polyval(best_P_fit, x_test)\n",
    "best_P_test_rmse = np.sqrt(np.mean(np.square(best_P_test_residual)))\n",
    "\n",
    "print('P=2 Test RMSE = ' + str(best_P_test_rmse))"
   ]
  },
  {
   "cell_type": "code",
   "execution_count": 200,
   "metadata": {
    "colab": {
     "base_uri": "https://localhost:8080/",
     "height": 283
    },
    "execution": {
     "iopub.execute_input": "2023-03-03T01:31:41.327493Z",
     "iopub.status.busy": "2023-03-03T01:31:41.327070Z",
     "iopub.status.idle": "2023-03-03T01:31:41.583940Z",
     "shell.execute_reply": "2023-03-03T01:31:41.582996Z",
     "shell.execute_reply.started": "2023-03-03T01:31:41.327460Z"
    },
    "executionInfo": {
     "elapsed": 300,
     "status": "ok",
     "timestamp": 1675264131799,
     "user": {
      "displayName": "Donatella Taurasi",
      "userId": "00673418551725000492"
     },
     "user_tz": -60
    },
    "id": "aDZCrLJdROdh",
    "outputId": "5a82fd7f-acaa-498b-87b1-ce5b777f9435",
    "tags": []
   },
   "outputs": [
    {
     "data": {
      "image/png": "[encoded data removed]",
      "text/plain": [
       "<Figure size 432x288 with 1 Axes>"
      ]
     },
     "metadata": {
      "needs_background": "light"
     },
     "output_type": "display_data"
    }
   ],
   "source": [
    "# And let's everything together!\n",
    "plt.plot(degrees, mean_train_rmse_for_degree, label='Mean Training RMSE')\n",
    "plt.plot(degrees, mean_valid_rmse_for_degree, label='Mean Validation RMSE')\n",
    "plt.scatter([best_P], [best_P_test_rmse], label='Test RMSE', c='r')\n",
    "plt.xlabel('Polynomial degree')\n",
    "plt.ylabel('RMSE')\n",
    "plt.ylim([0, 0.5])\n",
    "plt.legend()\n",
    "plt.show()"
   ]
  },
  {
   "cell_type": "markdown",
   "metadata": {
    "id": "Fi_ma38WVjIb"
   },
   "source": []
  }
 ],
 "metadata": {
  "colab": {
   "provenance": [
    {
     "file_id": "1zlvTnF92gXVv8Yonu_hcJm_85PYSSYtA",
     "timestamp": 1554749785373
    }
   ]
  },
  "kernelspec": {
   "display_name": "Python 3 (ipykernel)",
   "language": "python",
   "name": "python3"
  },
  "language_info": {
   "codemirror_mode": {
    "name": "ipython",
    "version": 3
   },
   "file_extension": ".py",
   "mimetype": "text/x-python",
   "name": "python",
   "nbconvert_exporter": "python",
   "pygments_lexer": "ipython3",
   "version": "3.9.1"
  }
 },
 "nbformat": 4,
 "nbformat_minor": 4
}
